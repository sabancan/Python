{
  "nbformat": 4,
  "nbformat_minor": 0,
  "metadata": {
    "colab": {
      "provenance": []
    },
    "kernelspec": {
      "name": "python3",
      "display_name": "Python 3"
    },
    "language_info": {
      "name": "python"
    }
  },
  "cells": [
    {
      "cell_type": "code",
      "execution_count": null,
      "metadata": {
        "id": "Gui4_WNovkuE",
        "colab": {
          "base_uri": "https://localhost:8080/"
        },
        "outputId": "a8cf9e42-2d6e-418f-ab1b-671e0b98fc07"
      },
      "outputs": [
        {
          "output_type": "stream",
          "name": "stdout",
          "text": [
            "Original String: hello world!\n",
            "New String: Hello world!\n"
          ]
        }
      ],
      "source": [
        "a = 'hello world!'\n",
        "b = a.capitalize()\n",
        "print('Original String:', a)\n",
        "print('New String:', b)"
      ]
    },
    {
      "cell_type": "code",
      "source": [
        "address='#1 Harbor Side'.capitalize()\n",
        "print(address)"
      ],
      "metadata": {
        "colab": {
          "base_uri": "https://localhost:8080/"
        },
        "id": "FskrWu8AGk1X",
        "outputId": "0085177c-eab7-4979-a562-cab410a942e8"
      },
      "execution_count": null,
      "outputs": [
        {
          "output_type": "stream",
          "name": "stdout",
          "text": [
            "#1 harbor side\n"
          ]
        }
      ]
    },
    {
      "cell_type": "code",
      "source": [
        "mystr = 'TUTORIALS Teacher'\n",
        "print(mystr.casefold())\n",
        "\n",
        "print('HELLO WORLD'.casefold())"
      ],
      "metadata": {
        "colab": {
          "base_uri": "https://localhost:8080/"
        },
        "id": "mCI1vul9Gk2T",
        "outputId": "c2b397d9-df3f-449c-9f72-fcde5d184815"
      },
      "execution_count": null,
      "outputs": [
        {
          "output_type": "stream",
          "name": "stdout",
          "text": [
            "tutorials teacher\n",
            "hello world\n"
          ]
        }
      ]
    },
    {
      "cell_type": "code",
      "source": [
        "greet='Hi'\n",
        "print(greet.center(4, '-'))\n",
        "print(greet.center(5, '*'))\n",
        "print(greet.center(6, '>'))"
      ],
      "metadata": {
        "colab": {
          "base_uri": "https://localhost:8080/"
        },
        "id": "XOmEvDTFGlDu",
        "outputId": "dbc80612-eb96-4424-e822-ed1ea683735d"
      },
      "execution_count": null,
      "outputs": [
        {
          "output_type": "stream",
          "name": "stdout",
          "text": [
            "-Hi-\n",
            "**Hi*\n",
            ">>Hi>>\n"
          ]
        }
      ]
    },
    {
      "cell_type": "code",
      "source": [],
      "metadata": {
        "id": "sEtEfJAtGlEP"
      },
      "execution_count": null,
      "outputs": []
    },
    {
      "cell_type": "code",
      "source": [],
      "metadata": {
        "id": "IWgspeXWGlT-"
      },
      "execution_count": null,
      "outputs": []
    }
  ]
}