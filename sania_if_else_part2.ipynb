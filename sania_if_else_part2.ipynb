{
  "cells": [
    {
      "cell_type": "markdown",
      "id": "37c4b722",
      "metadata": {
        "id": "37c4b722"
      },
      "source": [
        "1. Accept the percentage from the user and display the  grade according to the following criteria:\n",
        "\n",
        "    Below 25 —- D  \n",
        "    25 to 45 —- C\n",
        "    45 to 50 —- B\n",
        "    50 to 60 –– B+\n",
        "    60 to 80 —- A\n",
        "    Above 80 –- A+\n"
      ]
    },
    {
      "cell_type": "code",
      "execution_count": null,
      "id": "c80a863a",
      "metadata": {
        "id": "c80a863a",
        "outputId": "84f09154-e666-4125-aab1-efdc7b4f1431"
      },
      "outputs": [
        {
          "name": "stdout",
          "output_type": "stream",
          "text": [
            "enter percentage25\n",
            "student has got C\n"
          ]
        }
      ],
      "source": [
        "percentage=int(input(\"enter percentage\"))\n",
        "\n",
        "if percentage<25:\n",
        "    print(\"student has got D\")\n",
        "\n",
        "elif 25<=percentage and percentage<45:\n",
        "    print(\"student has got C\")\n",
        "\n",
        "elif 45<=percentage and percentage<50:\n",
        "    print(\"student has got B\")\n",
        "\n",
        "elif 50<=percentage and percentage<60:\n",
        "    print(\"student has got B+\")\n",
        "\n",
        "elif 60<=percentage and percentage<80:\n",
        "    print(\"student has got A\")\n",
        "\n",
        "elif percentage>=80:\n",
        "    print(\"student has got A+\")\n",
        "\n",
        "else:\n",
        "    print(\"enter percentage only\")"
      ]
    },
    {
      "cell_type": "markdown",
      "id": "1e0b0893",
      "metadata": {
        "id": "1e0b0893"
      },
      "source": [
        "2. Check if two strings are anagram or not. (care = race)\n",
        "\n",
        "(check length, lowercase all letters, sort function to make them similar)\n"
      ]
    },
    {
      "cell_type": "code",
      "execution_count": null,
      "id": "a2b8728d",
      "metadata": {
        "id": "a2b8728d",
        "outputId": "16586008-270e-499e-8593-867d0850b8cb"
      },
      "outputs": [
        {
          "name": "stdout",
          "output_type": "stream",
          "text": [
            "enter string: care\n",
            "enter string: race\n",
            "it's an anagram\n"
          ]
        }
      ],
      "source": [
        "\n",
        "x=(input(\"enter string: \"))\n",
        "y=(input(\"enter string: \"))\n",
        "\n",
        "if len(x)==len(y):\n",
        "\n",
        "    x=x.lower()\n",
        "    y=y.lower()\n",
        "\n",
        "    x=sorted(x)\n",
        "    y=sorted(y)\n",
        "\n",
        "    if x==y:\n",
        "        print(\"it's an anagram\")\n",
        "\n",
        "    else:\n",
        "        print(\"not an anagram\")\n",
        "else:\n",
        "    print(\"not an anagram\")\n",
        "\n"
      ]
    },
    {
      "cell_type": "markdown",
      "id": "7862762d",
      "metadata": {
        "id": "7862762d"
      },
      "source": [
        "3. Accept three sides of a triangle and check whether it is an equilateral, isosceles or scalene triangle.\n",
        "Note :\n",
        "An equilateral triangle is a triangle in which all three sides are equal.\n",
        "A scalene triangle is a triangle that has three unequal sides.\n",
        "An isosceles triangle is a triangle with (at least) two equal sides.\n"
      ]
    },
    {
      "cell_type": "code",
      "execution_count": null,
      "id": "1ca920a9",
      "metadata": {
        "id": "1ca920a9",
        "outputId": "6a352999-e706-41ce-a1ac-34f4ba9667b9"
      },
      "outputs": [
        {
          "name": "stdout",
          "output_type": "stream",
          "text": [
            "enter side1 : 4\n",
            "enter side2 : 4\n",
            "enter side3 : 4\n",
            "it's an equilateral triangle\n"
          ]
        }
      ],
      "source": [
        "a=int(input(\"enter side1 : \"))\n",
        "b=int(input(\"enter side2 : \"))\n",
        "c=int(input(\"enter side3 : \"))\n",
        "\n",
        "if a==b==c:\n",
        "    print(\"it's an equilateral triangle\")\n",
        "\n",
        "elif a!=b!=c:\n",
        "    print(\"it's an scalene triangle\")\n",
        "\n",
        "else:\n",
        "    print(\"it's an isoceles triangle\")\n"
      ]
    },
    {
      "cell_type": "markdown",
      "id": "583c67e4",
      "metadata": {
        "id": "583c67e4"
      },
      "source": [
        "4. Accept three sides of triangle and check whether the triangle is possible or not.\n",
        "(triangle is possible only when sum of any two sides is greater than 3rd side)\n"
      ]
    },
    {
      "cell_type": "code",
      "execution_count": null,
      "id": "7d98c234",
      "metadata": {
        "id": "7d98c234",
        "outputId": "6aaadfa3-f26c-4301-e7ba-69fd4ababd16"
      },
      "outputs": [
        {
          "name": "stdout",
          "output_type": "stream",
          "text": [
            "enter side1 : 6\n",
            "enter side2 : 7\n",
            "enter side3 : 5\n",
            "triangle is possible\n"
          ]
        }
      ],
      "source": [
        "a=int(input(\"enter side1 : \"))\n",
        "b=int(input(\"enter side2 : \"))\n",
        "c=int(input(\"enter side3 : \"))\n",
        "\n",
        "if a+b>c or a+c>b or b+c>a:\n",
        "    print(\"triangle is possible\")"
      ]
    },
    {
      "cell_type": "markdown",
      "id": "0682a746",
      "metadata": {
        "id": "0682a746"
      },
      "source": [
        "5. Check whether the given key is present in the dictionary or not. key is the stay,name,address\n"
      ]
    },
    {
      "cell_type": "code",
      "execution_count": null,
      "id": "21328da3",
      "metadata": {
        "id": "21328da3",
        "outputId": "07b3af57-4482-47a7-d52c-98a69f445b74"
      },
      "outputs": [
        {
          "name": "stdout",
          "output_type": "stream",
          "text": [
            "enter key to check in the dictonary a :name\n",
            "key is present\n"
          ]
        }
      ],
      "source": [
        "a={\"stay\":\"home\",\"name\":\"san\",\"address\":\"matunga\"}\n",
        "\n",
        "key =(input(\"enter key to check in the dictonary a :\"))\n",
        "\n",
        "if key in a:\n",
        "    print(\"key is present\")\n",
        "else:\n",
        "    print(\"key is not present\")"
      ]
    },
    {
      "cell_type": "markdown",
      "id": "acaf8126",
      "metadata": {
        "id": "acaf8126"
      },
      "source": [
        "6. Write a program to check whether the number entered is three digit or not\n",
        "\n"
      ]
    },
    {
      "cell_type": "code",
      "execution_count": null,
      "id": "fb77e122",
      "metadata": {
        "id": "fb77e122",
        "outputId": "a45d50c7-8d5d-4cd3-e601-59230a8911c8"
      },
      "outputs": [
        {
          "name": "stdout",
          "output_type": "stream",
          "text": [
            "enter number: 454\n",
            "the number entered is three digit\n"
          ]
        }
      ],
      "source": [
        "a=int(input(\"enter number: \"))\n",
        "b = str(a)\n",
        "if len(b)==3:\n",
        "    print(\"the number entered is three digit\")\n",
        "\n",
        "else:\n",
        "    print(\"the number entered is not three digit\")\n",
        ""
      ]
    },
    {
      "cell_type": "markdown",
      "id": "650a1f8f",
      "metadata": {
        "id": "650a1f8f"
      },
      "source": [
        "7. Accept the electric units from user and calculate the bill according to the following rates.\n",
        "\n",
        "First 100 Units     :  Free\n",
        "Next 200 Units      :  Rs 2 per unit.\n",
        "Above 300 Units     :  Rs 5 per unit.\n",
        "\n",
        "if number of unit is 500 then total bill = 0 +400 + 1000 = 1400\n"
      ]
    },
    {
      "cell_type": "code",
      "execution_count": null,
      "id": "464be878",
      "metadata": {
        "id": "464be878",
        "outputId": "b7c039f8-5394-4767-cd10-fd8a9b71d2f2"
      },
      "outputs": [
        {
          "name": "stdout",
          "output_type": "stream",
          "text": [
            "enter electric units: 400\n",
            "600\n"
          ]
        }
      ],
      "source": [
        "units=int(input(\"enter electric units: \"))\n",
        "\n",
        "if units<=100:\n",
        "    amount=0\n",
        "    print(\"bill= Free \")\n",
        "\n",
        "elif units>100 or units<=300:\n",
        "        amount=(units-100)*2\n",
        "        print(amount)\n",
        "\n",
        "elif units>300:\n",
        "        amount=400+(units-300)*5\n",
        "        print(amount)\n",
        "\n",
        "else:\n",
        "    print(\"wrong input\")\n",
        "\n",
        ""
      ]
    },
    {
      "cell_type": "markdown",
      "id": "de990ad5",
      "metadata": {
        "id": "de990ad5"
      },
      "source": [
        "8. Accept the age, sex (‘M’, ‘F’), number of days and display the wages accordingly\n",
        "\n",
        "\tAge\t\t\tSex\t\tWage/day\n",
        ">=18 and <30\tM\t\t\t700\n",
        "\t\t\t\tF\t\t\t750\n",
        "\n",
        "\n",
        ">=30 and <=40\tM\t\t\t800\n",
        "\t\t\t\tF\t\t\t850\n",
        "\n",
        "Python if else\n",
        "If age does not fall in any range then display the following message: “Enter appropriate age”\n"
      ]
    },
    {
      "cell_type": "code",
      "execution_count": null,
      "id": "d1ef4679",
      "metadata": {
        "id": "d1ef4679",
        "outputId": "44634761-13f5-4494-a9ae-b92c3b4d8128"
      },
      "outputs": [
        {
          "name": "stdout",
          "output_type": "stream",
          "text": [
            "enter age: 34\n",
            "enter sex: f\n",
            "number of days: 5\n",
            "wages is 850/day:  4250\n"
          ]
        }
      ],
      "source": [
        "age=int(input(\"enter age: \"))\n",
        "sex=(input(\"enter sex: \"))\n",
        "days=int(input(\"number of days: \"))\n",
        "\n",
        "if age>=18 and age<30:\n",
        "    if sex==\"M\":\n",
        "        print(\"wages is 700/day: \", 700*days)\n",
        "\n",
        "    else:\n",
        "        print(\"wages is 750/day: \", 750*days)\n",
        "\n",
        "\n",
        "elif age>=30 and age<=40:\n",
        "    if sex==\"M\":\n",
        "        print(\"wages is 800/day: \", 800*days)\n",
        "\n",
        "    else:\n",
        "        print(\"wages is 850/day: \", 850*days)\n",
        "\n",
        "else:\n",
        "    print(\"Enter appropriate age\")\n",
        "\n"
      ]
    },
    {
      "cell_type": "markdown",
      "id": "e2d30897",
      "metadata": {
        "id": "e2d30897"
      },
      "source": [
        "9.  Accept three numbers from the user and display the second largest number.\n",
        "\n"
      ]
    },
    {
      "cell_type": "code",
      "execution_count": null,
      "id": "215baa78",
      "metadata": {
        "id": "215baa78",
        "outputId": "d28e540a-64f2-4d49-a40d-e821940b0b94"
      },
      "outputs": [
        {
          "name": "stdout",
          "output_type": "stream",
          "text": [
            "enter number for a : 6\n",
            "enter number for b : 7\n",
            "enter number for c : 5\n",
            "a is the second largest\n"
          ]
        }
      ],
      "source": [
        "a=int(input(\"enter number for a : \"))\n",
        "b=int(input(\"enter number for b : \"))\n",
        "c=int(input(\"enter number for c : \"))\n",
        "\n",
        "if a>b and a<c or a<b and a>c:\n",
        "    print(\"a is the second largest\")\n",
        "\n",
        "elif b>a and b<c or b<a and b>c:\n",
        "    print(\"b is the second largest\")\n",
        "\n",
        "else:\n",
        "    print(\"c is the second largest\")\n",
        "\n",
        ""
      ]
    },
    {
      "cell_type": "code",
      "execution_count": null,
      "id": "0eaf7a97",
      "metadata": {
        "id": "0eaf7a97"
      },
      "outputs": [],
      "source": [
        "10. Accept the number of days from the user and calculate the charge for library according to following :\n",
        "\n",
        "Till five days : Rs 2/day.\n",
        "Six to ten days  : Rs 3/day.\n",
        "11 to 15 days  : Rs 4/day\n",
        "After 15 days    : Rs 5/day\n"
      ]
    },
    {
      "cell_type": "code",
      "execution_count": null,
      "id": "51053cff",
      "metadata": {
        "id": "51053cff"
      },
      "outputs": [],
      "source": [
        "days=int(input(\"enter days : \"))\n",
        "\n",
        "if days>=0 and days<=5:\n",
        "\n",
        "    print(\"charge for library is Rs 2/day\",days*2)\n",
        "\n",
        "elif days>=6 or days<=10:\n",
        "    print(\"charge for library is Rs 3/day\",days*3)\n",
        "\n",
        "elif days>=11 or days<=15:\n",
        "    print(\"charge for library is Rs 4/day\",days*4)\n",
        "\n",
        "elif days>15:\n",
        "    print(\"charge for library is Rs 5/day\",days*5)\n",
        "\n",
        "else:\n",
        "    print(\"wrong input\")\n",
        "\n",
        "\n",
        "\n",
        "\n"
      ]
    },
    {
      "cell_type": "markdown",
      "source": [
        "\n",
        "12] WAP a program to accept employee number (en) and basic salary(bs) from\n",
        "the keyboard. calculate and display dearness allowance (da) as 63% of basic\n",
        "salary, house rent allowance (hra) as 40% of basic salary, special allowance(sa)\n",
        "\n",
        "as 15% of basic salary whenever basic salary is over rs 3500,otherwise no special\n",
        "allowance is to be given, gross salary(gs) is bs+da+hra+sa.\n",
        "\n",
        "\n"
      ],
      "metadata": {
        "id": "7DCme8cyqJYc"
      },
      "id": "7DCme8cyqJYc"
    },
    {
      "cell_type": "code",
      "source": [
        "en=int(input(\"Enter Employee Number : \"))\n",
        "bs=int(input(\"Enter Basic Salary : \"))\n",
        "\n",
        "da=(63/100)*bs\n",
        "\n",
        "hra=(40/100)*bs\n",
        "\n",
        "if bs>3500:\n",
        "  sa=(15/100)*bs\n",
        "\n",
        "  gs=bs+da+hra+sa\n",
        "  print (\"Gross Salary of the employee : \",gs)\n",
        "\n",
        "else:\n",
        "\n",
        "  sa=0\n",
        "  gs=bs+da+hra+sa\n",
        "  print (\"Gross Salary of the employee : \",gs)\n",
        "\n",
        "\n",
        "\n"
      ],
      "metadata": {
        "colab": {
          "base_uri": "https://localhost:8080/"
        },
        "id": "_gEkhdIoqIE9",
        "outputId": "607aab17-ca1d-4a40-fc2e-9484484d3f7d"
      },
      "id": "_gEkhdIoqIE9",
      "execution_count": null,
      "outputs": [
        {
          "output_type": "stream",
          "name": "stdout",
          "text": [
            "Enter Employee Number : 101\n",
            "Enter Basic Salary : 5000\n",
            "Gross Salary of the employee :  10900.0\n"
          ]
        }
      ]
    },
    {
      "cell_type": "markdown",
      "source": [
        "16] The rate of interest varies as per the amount of loan taken as shown below\n",
        "Amount of loan taken rate of interest\n",
        "below 10000 = 5%\n",
        "10000 - 50000 = 7%\n",
        "above 50000 = 10%\n",
        "input the amount of loan calculate and print the simple interest for 10 years\n",
        "\n",
        "Simple interest=(p*r*t)/100"
      ],
      "metadata": {
        "id": "Mjp4IhaOtL-9"
      },
      "id": "Mjp4IhaOtL-9"
    },
    {
      "cell_type": "code",
      "execution_count": null,
      "id": "361fddb4",
      "metadata": {
        "colab": {
          "base_uri": "https://localhost:8080/"
        },
        "id": "361fddb4",
        "outputId": "a5b78cbe-2317-466c-8817-496798b712a4"
      },
      "outputs": [
        {
          "output_type": "stream",
          "name": "stdout",
          "text": [
            "enter amount : 50000\n",
            "simple_interest :  50000.0\n"
          ]
        }
      ],
      "source": [
        "loan_amount=float(input(\"enter amount : \"))\n",
        "\n",
        "if loan_amount<10000:\n",
        "  simple_interest=(loan_amount*5*10)/100\n",
        "  print(\"simple_interest : \", simple_interest)\n",
        "\n",
        "elif loan_amount>=10000 and loan_amount<50000:\n",
        "  simple_interest=(loan_amount*7*10)/100\n",
        "  print(\"simple_interest : \", simple_interest)\n",
        "\n",
        "elif loan_amount>=50000:\n",
        "  simple_interest=(loan_amount*10*10)/100\n",
        "  print(\"simple_interest : \", simple_interest)\n",
        "\n",
        "else:\n",
        "  print(\"Wrong input\")"
      ]
    },
    {
      "cell_type": "markdown",
      "source": [
        "19] write a program to input bil number (bno) and sales amount (sales)\n",
        "calculate sales tax (stax) as follows\n",
        "\n",
        "Sales       Sales Tax\n",
        "First 3500 = 2.5%\n",
        "Next 5000 = 3.75%\n",
        "Next 7500 = 4.25%\n",
        "Excess =    5%\n",
        "\n",
        "Also include statements to print the details of bill number, sales amount, sales\n",
        "tax and total amount (tamt)."
      ],
      "metadata": {
        "id": "LS389D5cxDOQ"
      },
      "id": "LS389D5cxDOQ"
    },
    {
      "cell_type": "code",
      "source": [
        "bno=int(input(\"Enter bill number : \"))\n",
        "sales_amount=int(input(\"Enter sales_amount : \"))\n",
        "\n",
        "if sales_amount<=3500:\n",
        "  stax=0.025*sales_amount\n",
        "\n",
        "  total_amount=sales_amount+stax\n",
        "  print( \"total_amount : \", total_amount)\n",
        "\n",
        "elif sales_amount>3500 and sales_amount<=8500:\n",
        "  stax=0.375*sales_amount\n",
        "\n",
        "  total_amount=sales_amount+stax\n",
        "  print( \"total_amount : \", total_amount)\n",
        "\n",
        "elif sales_amount>8500 and sales_amount<=16000:\n",
        "  stax=0.425*sales_amount\n",
        "\n",
        "  total_amount=sales_amount+stax\n",
        "  print( \"total_amount : \", total_amount)\n",
        "\n",
        "elif sales_amount>16000:\n",
        "  stax=0.05*sales_amount\n",
        "\n",
        "  total_amount=sales_amount+stax\n",
        "  print( \"total_amount : \", total_amount)\n",
        "\n",
        "else:\n",
        "\n",
        "  print(\"envlid input\")\n"
      ],
      "metadata": {
        "colab": {
          "base_uri": "https://localhost:8080/"
        },
        "id": "ywvpLpRyvHDc",
        "outputId": "1d19e295-2eff-405b-d8cc-560bf416ef64"
      },
      "id": "ywvpLpRyvHDc",
      "execution_count": null,
      "outputs": [
        {
          "output_type": "stream",
          "name": "stdout",
          "text": [
            "Enter bill number : 23\n",
            "Enter sales_amount : 10000\n",
            "14250.0\n"
          ]
        }
      ]
    },
    {
      "cell_type": "markdown",
      "source": [
        "13] WAP a program to input a number and then print with a suitable message\n",
        "whether it is divisible by 17 or not"
      ],
      "metadata": {
        "id": "tJ1chErU8MC6"
      },
      "id": "tJ1chErU8MC6"
    },
    {
      "cell_type": "code",
      "source": [
        "number=int(input(\"enter number:\"))\n",
        "if number%17==0:\n",
        "  print(number,\"number is divisible by 17\")\n",
        "\n",
        "else:\n",
        "  print(\"number is not divisible\")"
      ],
      "metadata": {
        "colab": {
          "base_uri": "https://localhost:8080/"
        },
        "id": "EzRCkcgB8K6f",
        "outputId": "4da911d2-f2a0-4008-99f4-d0a7cb05f505"
      },
      "id": "EzRCkcgB8K6f",
      "execution_count": null,
      "outputs": [
        {
          "output_type": "stream",
          "name": "stdout",
          "text": [
            "enter number:51\n",
            "51 number is divisible by 17\n"
          ]
        }
      ]
    },
    {
      "cell_type": "markdown",
      "source": [
        "14] WAP a programs to input a number and print weather it is Odd or Even.\n"
      ],
      "metadata": {
        "id": "w1vVQNheAIpE"
      },
      "id": "w1vVQNheAIpE"
    },
    {
      "cell_type": "code",
      "source": [
        "num=int(input(\"enter number : \"))\n",
        "\n",
        "if num%2==0:\n",
        "\n",
        "  print(\"number is  even\")\n",
        "else:\n",
        "  print(\"number is odd\")\n",
        ""
      ],
      "metadata": {
        "colab": {
          "base_uri": "https://localhost:8080/"
        },
        "id": "Sw2S3he-8K9c",
        "outputId": "be4a0925-f25a-4526-b66b-ab1b8868cf01"
      },
      "id": "Sw2S3he-8K9c",
      "execution_count": null,
      "outputs": [
        {
          "output_type": "stream",
          "name": "stdout",
          "text": [
            "enter number : 5\n",
            "number is odd\n"
          ]
        }
      ]
    },
    {
      "cell_type": "markdown",
      "source": [
        "-----------X------------------------X---------------------X----------------------------\n",
        "If.....else If.....else Questions"
      ],
      "metadata": {
        "id": "o3-W0P_tBFW0"
      },
      "id": "o3-W0P_tBFW0"
    },
    {
      "cell_type": "markdown",
      "source": [
        "15] write a program to input the marks of a student print the result as follows\n",
        "Marks          result\n",
        "Less than 35 = Fail\n",
        "35 or more but less than 45 = Pass class\n",
        "45 or more but less than 60 = 2nd class\n",
        "60 or more but less than 75 = 1st class\n",
        "75 or more but less than 90 = distinction\n",
        "90 or more = merit\n",
        "If the marks are less than 0 or greater than 100, print INVALID Marks"
      ],
      "metadata": {
        "id": "FouYrTz2BKbI"
      },
      "id": "FouYrTz2BKbI"
    },
    {
      "cell_type": "code",
      "source": [
        "marks=int(input(\"enter marks of student : \"))\n",
        "\n",
        "if marks<35:\n",
        "  print(\"student has failed class\")\n",
        "\n",
        "\n",
        "elif marks>=35 and marks<45:\n",
        "  print(\"student has passed class\")\n",
        "\n",
        "\n",
        "elif marks>=45 and marks<60:\n",
        "  print(\"student has passed 2nd class\")\n",
        "\n",
        "\n",
        "elif marks>=60 and marks<75:\n",
        "  print(\"student has passed 1st class\")\n",
        "\n",
        "\n",
        "elif marks>=75 and marks<90:\n",
        "  print(\"student has passed with distinction\")\n",
        "\n",
        "elif marks>=90:\n",
        "  print(\"student has passed with  merit\")\n",
        "\n",
        "elif marks<0 or marks>100:\n",
        "  print(\"INVALID Marks\")\n",
        "\n",
        "else:\n",
        "  print(\"wrong input\")\n",
        "\n",
        "\n",
        "\n",
        "\n"
      ],
      "metadata": {
        "colab": {
          "base_uri": "https://localhost:8080/"
        },
        "id": "PogOCqZ98LBK",
        "outputId": "1d9701a3-9633-47ac-826b-4a8285782dfd"
      },
      "id": "PogOCqZ98LBK",
      "execution_count": null,
      "outputs": [
        {
          "output_type": "stream",
          "name": "stdout",
          "text": [
            "enter marks of student : 85\n",
            "student has passed with distinction\n"
          ]
        }
      ]
    },
    {
      "cell_type": "markdown",
      "source": [
        "17] A wholesaler offers discount as follows:\n",
        "If order amount is not exceeding Rs. 10000 then discount rate is 5%\n",
        "If order amount exceed Rs 10000 but not exceeding Rs 25000 then discount rate is 10%\n",
        "if order amount exceed Rs. 25000 then discount rate is 15%\n",
        "\n",
        "write a program to input item number, quantity ordered, unit price and then print item number, order amount, discount and net amount."
      ],
      "metadata": {
        "id": "yb8M8T9JHw-k"
      },
      "id": "yb8M8T9JHw-k"
    },
    {
      "cell_type": "code",
      "source": [
        "order_amount=float(input(\"enter order_amount\"))\n",
        "item_no=float(input(\"enter item_no\"))\n",
        "quantity_ordered=float(input(\"enter quantity_ordered\"))\n",
        "unit_price=float(input(\"enter unit_price\"))\n",
        "\n",
        "if order_amount<10000:\n",
        "\n",
        "\n",
        "  discount=0.05\n",
        "  print(discount,\"discount is\")\n",
        "\n",
        "  net_amount=order_amount-(discount)\n",
        "  print(net_amount,\"is the net_amount\")\n",
        "\n",
        "elif order_amount>=10000 and order_amount<25000:\n",
        "\n",
        "\n",
        "  discount=0.10\n",
        "  print(discount,\"discount is\")\n",
        "\n",
        "  net_amount=order_amount-discount\n",
        "  print(net_amount,\"is the net_amount\")\n",
        "\n",
        "elif order_amount>25000:\n",
        "\n",
        "\n",
        "  discount=0.15\n",
        "  print(discount,\"discount is\")\n",
        "\n",
        "  net_amount=order_amount-discount\n",
        "  print(net_amount,\"is the net_amount\")\n",
        "\n",
        "\n",
        "else:\n",
        "  print(\"invalid input\")\n",
        "\n",
        "\n"
      ],
      "metadata": {
        "id": "_HJE37sPvHJI"
      },
      "id": "_HJE37sPvHJI",
      "execution_count": null,
      "outputs": []
    },
    {
      "cell_type": "markdown",
      "source": [
        "18] write a program to input the gross income (gi), the rate of income tax (itax) is as per following schedule\n",
        "\n",
        "Gross Income.  Rate Of Income Tax\n",
        "First 100000 = Nil\n",
        "First 50000 = 10%\n",
        "First 100000 = 20%\n",
        "Excess = 30%\n",
        "Calculate and print gross income, income tax and net income (ni) with\n",
        "appropriate message, where net income = gross income - income tax."
      ],
      "metadata": {
        "id": "-aF1-GsGKixR"
      },
      "id": "-aF1-GsGKixR"
    },
    {
      "cell_type": "code",
      "source": [
        "gi=float(input(\"enter gross income\"))\n",
        "\n",
        "\n",
        "if 100000<gi:\n",
        "  itax=0*gi\n",
        "  ni=gi-itax\n",
        "  print(\"net income\",ni)\n",
        "\n",
        "\n",
        "elif 10000>=gi and 50000<gi:\n",
        "  itax=0.1*gi\n",
        "  ni=gi-itax\n",
        "  print(\"net income\",ni)\n",
        "\n",
        "elif 50000>=gi and 100000<gi:\n",
        "  itax=0.2*gi\n",
        "  ni=gi-itax\n",
        "  print(\"net income\",ni)\n",
        "\n",
        "elif 100000>gi:\n",
        "  itax=0.3*gi\n",
        "  ni=gi-itax\n",
        "  print(\"net income\",ni)\n",
        "\n",
        "else:\n",
        "  print(\"wrong input\")\n",
        "\n",
        "\n",
        "\n",
        "\n",
        "\n"
      ],
      "metadata": {
        "colab": {
          "base_uri": "https://localhost:8080/"
        },
        "id": "wtw5BOlBKjH7",
        "outputId": "9c37f830-ab56-47bd-d97a-26fb4dc66416"
      },
      "id": "wtw5BOlBKjH7",
      "execution_count": null,
      "outputs": [
        {
          "output_type": "stream",
          "name": "stdout",
          "text": [
            "enter income tax1000\n",
            "net income 250000.0\n"
          ]
        }
      ]
    },
    {
      "cell_type": "markdown",
      "source": [
        "20] Electricity charges are computed as follows\n",
        "\n",
        "Unit Consumed   Rate per unit\n",
        "\n",
        "First 100 unit  minimum Rs. 50\n",
        "next 500 unit   70 paise per unit\n",
        "next 1000 unit  80 paise per unit\n",
        "excess          90 paise per unit\n",
        "\n",
        "If the bill amount exceeds Rs. 1000 a surcharge of 10% of amount exceeding Rs 1000 is added to the bill amount.\n",
        "\n",
        "Write a program to input consumer number and\n",
        "units consumed and then print consumer number, unit consumed, and bill amount."
      ],
      "metadata": {
        "id": "lPuPvF65Kjwt"
      },
      "id": "lPuPvF65Kjwt"
    },
    {
      "cell_type": "code",
      "source": [
        "consumer_number=float(input(\"enter consumer number \"))\n",
        "units_consumed=float(input(\"enter units consumed \"))\n",
        "\n",
        "if units_consumed<100:\n",
        "  bill=50\n",
        "  print(bill, \"bill\")\n",
        "\n",
        "  if bill>1000:\n",
        "     bill=bill+(0.1*(bill-1000))\n",
        "     print(\"bill amount exceeding 1000 is\", bill)\n",
        "  else:\n",
        "      print(\"bill amount does not exceeding 1000\")\n",
        "\n",
        "\n",
        "elif units_consumed>=100 and units_consumed<600:\n",
        "  bill=70*units_consumed\n",
        "  print(bill, \"bill\")\n",
        "\n",
        "  if bill>1000:\n",
        "    bill=bill+(0.1*(bill-1000))\n",
        "    print(\"bill amount exceeding 1000 is\", bill)\n",
        "\n",
        "  else:\n",
        "     print(\"bill amount does not exceeding 1000\")\n",
        "\n",
        "elif units_consumed>=600 and units_consumed<1600:\n",
        "  bill=80*units_consumed\n",
        "  print(bill,\"bill\")\n",
        "\n",
        "  if bill>1000:\n",
        "    bill=bill+(0.1*(bill-1000))\n",
        "    print(\"bill amount exceeding 1000 is\", bill)\n",
        "\n",
        "  else:\n",
        "     print(\"bill amount does not exceeding 1000 \")\n",
        "\n",
        "elif units_consumed>16100:\n",
        "  bill=90*units_consumed\n",
        "  print(bill,\"bill\")\n",
        "\n",
        "  if bill>1000:\n",
        "     bill=bill+(0.1*(bill-1000))\n",
        "     print(\"bill amount exceeding 1000 is\", bill)\n",
        "\n",
        "  else:\n",
        "     print(\"bill amount does not exceeding 1000 \")\n",
        "\n",
        "else:\n",
        "  print(\"worng output\")\n",
        "\n",
        "\n"
      ],
      "metadata": {
        "id": "9pJIBhQ4Kj6P",
        "colab": {
          "base_uri": "https://localhost:8080/"
        },
        "outputId": "a3daef6c-0837-421b-e3bb-c63ab428b276"
      },
      "id": "9pJIBhQ4Kj6P",
      "execution_count": null,
      "outputs": [
        {
          "output_type": "stream",
          "name": "stdout",
          "text": [
            "enter consumer number 8\n",
            "enter units consumed 75\n",
            "3750.0 bill\n",
            "bill amount exceeding 1000 is 4025.0\n"
          ]
        }
      ]
    },
    {
      "cell_type": "code",
      "source": [],
      "metadata": {
        "id": "TyjYcxQ4ruBV"
      },
      "id": "TyjYcxQ4ruBV",
      "execution_count": null,
      "outputs": []
    }
  ],
  "metadata": {
    "kernelspec": {
      "display_name": "Python 3 (ipykernel)",
      "language": "python",
      "name": "python3"
    },
    "language_info": {
      "codemirror_mode": {
        "name": "ipython",
        "version": 3
      },
      "file_extension": ".py",
      "mimetype": "text/x-python",
      "name": "python",
      "nbconvert_exporter": "python",
      "pygments_lexer": "ipython3",
      "version": "3.9.7"
    },
    "colab": {
      "provenance": []
    }
  },
  "nbformat": 4,
  "nbformat_minor": 5
}