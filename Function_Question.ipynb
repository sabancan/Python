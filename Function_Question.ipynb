{
  "cells": [
    {
      "cell_type": "markdown",
      "metadata": {
        "id": "yURxkd2PEWoa"
      },
      "source": [
        "1. Make a calculator using function.\n"
      ]
    },
    {
      "cell_type": "code",
      "execution_count": null,
      "metadata": {
        "colab": {
          "base_uri": "https://localhost:8080/"
        },
        "id": "6W2SWMn7EWvv",
        "outputId": "185ddf7e-297a-4905-a38d-9ee2ac5e5375"
      },
      "outputs": [
        {
          "metadata": {
            "tags": null
          },
          "name": "stdout",
          "output_type": "stream",
          "text": [
            "select an operation:\n",
            "1-Add\n",
            "2-subtract\n",
            "3-Multiply\n",
            "4-division\n",
            "5-remainder\n",
            "6-floor division\n"
          ]
        }
      ],
      "source": [
        "def add(a,b):\n",
        "  return(a+b)\n",
        "\n",
        "def subtract(a,b):\n",
        "  return(a-b)\n",
        "\n",
        "def multiply(a,b):\n",
        "  return(a*b)\n",
        "\n",
        "def division(a,b):\n",
        "  return(a/b)\n",
        "\n",
        "def remainder(a,b):\n",
        "  return(a%b)\n",
        "\n",
        "def floor(a,b):\n",
        "  return(a//b)\n",
        "\n",
        "print(\"select an operation:\")\n",
        "print(\"1-Add\")\n",
        "print(\"2-subtract\")\n",
        "print(\"3-Multiply\")\n",
        "print(\"4-division\")\n",
        "print(\"5-remainder\")\n",
        "print(\"6-floor division\")\n",
        "\n",
        "while True:\n",
        "  a=float(input(\"enter a number: \"))\n",
        "  b=float(input(\"enter a number: \"))\n",
        "\n",
        "  choose =int(input(\"enter a number according to the operation you want to perform: \"))\n",
        "\n",
        "  if choose in (1,2,3,4,5,6):\n",
        "\n",
        "    if choose==1:\n",
        "      print(\"addition is: \", add(a,b))\n",
        "\n",
        "    elif choose==2:\n",
        "      print(\"subtraction is:\", subtract(a,b))\n",
        "\n",
        "    elif choose==3:\n",
        "      print(\"multiplication is: \", multiply(a,b))\n",
        "\n",
        "    elif choose==4:\n",
        "      print(\"division is: \", division(a,b))\n",
        "\n",
        "    elif choose==5:\n",
        "      print(\"remainder is: \", remainder(a,b))\n",
        "\n",
        "    elif choose==6:\n",
        "      print(\"floor division is: \", floor(a,b))\n",
        "\n",
        "    else:\n",
        "      print(\"invalid number\")\n",
        "\n",
        "    next=input(\"\\nWant to perform another operation?\\n(Y/N)\")\n",
        "\n",
        "    if next=='N':\n",
        "      print(\"OFF\")\n",
        "      break\n",
        "\n",
        "  else:\n",
        "    print(\"invalid input\")\n",
        "\n",
        "\n",
        "\n",
        "\n",
        "\n",
        "\n"
      ]
    },
    {
      "cell_type": "markdown",
      "metadata": {
        "id": "9lPvD6TiEW3i"
      },
      "source": [
        "2. Calculate sum of first n numbers.(recurssion)\n"
      ]
    },
    {
      "cell_type": "code",
      "execution_count": null,
      "metadata": {
        "colab": {
          "base_uri": "https://localhost:8080/"
        },
        "id": "A6k-jl1qEW_K",
        "outputId": "321db51e-5d96-4373-e6b3-d3f3f3a2f130"
      },
      "outputs": [
        {
          "output_type": "stream",
          "name": "stdout",
          "text": [
            "enter a no.8\n",
            "total sum upto 8 is 36\n"
          ]
        }
      ],
      "source": [
        "def sum(n):\n",
        "\n",
        "  if n<=1:\n",
        "    return n\n",
        "\n",
        "  else:\n",
        "    return n+sum(n-1)\n",
        "\n",
        "num=int(input(\"enter a no.\"))\n",
        "\n",
        "if num<1:\n",
        "  print(\"please enter a positive no.\")\n",
        "\n",
        "else:\n",
        "  print(\"total sum upto\",num,\"is\",sum(num))"
      ]
    },
    {
      "cell_type": "markdown",
      "metadata": {
        "id": "mA_P42i5EXGL"
      },
      "source": [
        "3. Write a python function that takes a list and returns a new list with unique elements of the first list\n"
      ]
    },
    {
      "cell_type": "code",
      "execution_count": null,
      "metadata": {
        "id": "sS1sZd2eEXNl",
        "colab": {
          "base_uri": "https://localhost:8080/"
        },
        "outputId": "b16eb2d3-1a81-4c9f-8427-c2915662ca5e"
      },
      "outputs": [
        {
          "output_type": "stream",
          "name": "stdout",
          "text": [
            "[3, 4, 2, 7, 8, 9, 56, 87, 6, 79]\n"
          ]
        }
      ],
      "source": [
        "def list1(b):\n",
        "  a=[]\n",
        "\n",
        "  for x in b:\n",
        "\n",
        "    if x not in a:\n",
        "      a.append(x)\n",
        "  return a\n",
        "\n",
        "print(list1([3,3,4,2,4,7,8,9,56,7,87,6,79]))\n",
        "\n"
      ]
    },
    {
      "cell_type": "markdown",
      "metadata": {
        "id": "vzY-n2C3EXVt"
      },
      "source": [
        "4. Find maximum and minimum number from two numbers using function\n"
      ]
    },
    {
      "cell_type": "code",
      "execution_count": null,
      "metadata": {
        "id": "7QgiiDV1EXdS",
        "colab": {
          "base_uri": "https://localhost:8080/"
        },
        "outputId": "26ac80fe-d917-46e4-b2f4-45e42bf02454"
      },
      "outputs": [
        {
          "output_type": "stream",
          "name": "stdout",
          "text": [
            "enter a number8\n",
            "enter a number7\n",
            "8 is maximum and 7 is minimum\n"
          ]
        }
      ],
      "source": [
        "def maxmin(a, b):\n",
        "\n",
        "  if a>b:\n",
        "      print(a,\"is maximum and\", b,\"is minimum\")\n",
        "\n",
        "  else:\n",
        "      print(b,\"is maximum and\", a,\"is minimum\")\n",
        "\n",
        "\n",
        "n1=int(input(\"enter a number\"))\n",
        "n2=int(input(\"enter a number\"))\n",
        "maxmin(n1,n2)\n",
        "\n"
      ]
    },
    {
      "cell_type": "markdown",
      "metadata": {
        "id": "FOMjDxdnEXk7"
      },
      "source": [
        "5. Find the number of uppercases and lowercases letters in string\n",
        "\n",
        "16. Write a python function that accepts a string and calculate the number of uppercase letters and lowercase\n"
      ]
    },
    {
      "cell_type": "code",
      "execution_count": null,
      "metadata": {
        "id": "yl9bVL4dEXsU",
        "colab": {
          "base_uri": "https://localhost:8080/"
        },
        "outputId": "6f3a5c03-8625-4bf6-83e7-fa3916afd425"
      },
      "outputs": [
        {
          "output_type": "stream",
          "name": "stdout",
          "text": [
            "enter a string hello world\n",
            "no. of uppercase letters is: 0\n",
            "no. of lowercase letters is: 10\n"
          ]
        }
      ],
      "source": [
        "def String(a):\n",
        "  r={'uppercase':0,'lowercase':0}\n",
        "\n",
        "  for i in a:\n",
        "\n",
        "    if i.isupper():\n",
        "      r['uppercase']+=1\n",
        "\n",
        "    elif i.islower():\n",
        "      r['lowercase']+=1\n",
        "\n",
        "    else:pass\n",
        "\n",
        "  print(\"enter a string\",a)\n",
        "\n",
        "  print(\"no. of uppercase letters is:\",r['uppercase'])\n",
        "  print(\"no. of lowercase letters is:\",r['lowercase'])\n",
        "\n",
        "String('hello world')\n",
        "\n",
        "\n",
        ""
      ]
    },
    {
      "cell_type": "markdown",
      "metadata": {
        "id": "XK9nJKzEEX0l"
      },
      "source": [
        "6. write a program to check number is prime or not\n"
      ]
    },
    {
      "cell_type": "code",
      "execution_count": null,
      "metadata": {
        "id": "4Mg_ZkrVEYEf",
        "colab": {
          "base_uri": "https://localhost:8080/"
        },
        "outputId": "afacf048-1773-4301-c2bf-f0bf4d0dc89c"
      },
      "outputs": [
        {
          "output_type": "stream",
          "name": "stdout",
          "text": [
            "enter a number: 9\n",
            "PRIME\n"
          ]
        }
      ],
      "source": [
        "def prime(a):\n",
        "\n",
        "  for i in range(2,a):\n",
        "    if a%i==0:\n",
        "      return \"not prime no.\"\n",
        "    return 'PRIME'\n",
        "\n",
        "a=int(input('enter a number: '))\n",
        "print(prime(a))\n",
        "\n"
      ]
    },
    {
      "cell_type": "markdown",
      "metadata": {
        "id": "LUJU5h7mEYNX"
      },
      "source": [
        "7. Display the powers of 2 using anonymous functions\n"
      ]
    },
    {
      "cell_type": "code",
      "execution_count": null,
      "metadata": {
        "id": "IfMccCJUEYU6",
        "colab": {
          "base_uri": "https://localhost:8080/"
        },
        "outputId": "d3641c0b-b2b1-4439-ecf8-d5f53a659116"
      },
      "outputs": [
        {
          "output_type": "stream",
          "name": "stdout",
          "text": [
            "enter how many terms? 8\n",
            "total terms are:  8\n",
            "2 raised to power 0 is 1\n",
            "2 raised to power 1 is 2\n",
            "2 raised to power 2 is 4\n",
            "2 raised to power 3 is 8\n",
            "2 raised to power 4 is 16\n",
            "2 raised to power 5 is 32\n",
            "2 raised to power 6 is 64\n",
            "2 raised to power 7 is 128\n"
          ]
        }
      ],
      "source": [
        "def power(n):\n",
        "\n",
        "  final=list(map(lambda x:2**x,range(n)))\n",
        "  print(\"total terms are: \", n)\n",
        "\n",
        "  for i in range(n):\n",
        "\n",
        "    print(\"2 raised to power\",i,\"is\",final[i])\n",
        "\n",
        "num= int(input(\"enter how many terms? \"))\n",
        "power(num)\n",
        ""
      ]
    },
    {
      "cell_type": "markdown",
      "source": [
        "Fibonnaci sequence"
      ],
      "metadata": {
        "id": "nCX0OyzmTS9S"
      }
    },
    {
      "cell_type": "code",
      "source": [
        "def fib(n):\n",
        "  if n<=1:\n",
        "    return n\n",
        "\n",
        "  else:\n",
        "    return(fib(n-1)+fib(n-2))\n",
        "\n",
        "num=int(input(\"enter the number sequence upto: \"))\n",
        "\n",
        "if num<=0:\n",
        "  print(\"enter positive number\")\n",
        "\n",
        "else:\n",
        "  print(\"Fibonnaci series is: \")\n",
        "\n",
        "  for i in range(num):\n",
        "    print(fib(i))\n"
      ],
      "metadata": {
        "colab": {
          "base_uri": "https://localhost:8080/"
        },
        "id": "zdAqIp0yTTO7",
        "outputId": "eec59584-5495-4aaf-97df-5479105b10ad"
      },
      "execution_count": null,
      "outputs": [
        {
          "output_type": "stream",
          "name": "stdout",
          "text": [
            "enter the number sequence upto: 5\n",
            "Fibonnaci series is: \n",
            "0\n",
            "1\n",
            "1\n",
            "2\n",
            "3\n"
          ]
        }
      ]
    }
  ],
  "metadata": {
    "colab": {
      "provenance": []
    },
    "kernelspec": {
      "display_name": "Python 3",
      "name": "python3"
    },
    "language_info": {
      "name": "python"
    }
  },
  "nbformat": 4,
  "nbformat_minor": 0
}