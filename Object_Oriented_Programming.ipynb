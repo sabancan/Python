{
  "nbformat": 4,
  "nbformat_minor": 0,
  "metadata": {
    "colab": {
      "provenance": []
    },
    "kernelspec": {
      "name": "python3",
      "display_name": "Python 3"
    },
    "language_info": {
      "name": "python"
    }
  },
  "cells": [
    {
      "cell_type": "code",
      "execution_count": null,
      "metadata": {
        "colab": {
          "base_uri": "https://localhost:8080/"
        },
        "id": "e5j4ouXMfKQp",
        "outputId": "636b2a88-9856-453c-c43b-47ecccd86814"
      },
      "outputs": [
        {
          "output_type": "stream",
          "name": "stdout",
          "text": [
            "The Tiger animal has a black-orange color, is large in size and he Roar.\n",
            "The Tiger animal is wild\n",
            "The elephant animal has a grey color, is medium in size and he snorts.\n",
            "The elephant animal is wild\n",
            "The elephant animal has a grey color, is medium in size and he Gnawing .\n",
            "The elephant animal is domestic\n"
          ]
        }
      ],
      "source": [
        "class animal:\n",
        "\n",
        "  # class is animal\n",
        "\n",
        "\n",
        "  def __init__(self,name,color,size):\n",
        "\n",
        "    # def is a function. __init__ is constructor method.\n",
        "    #self has to be the first parameter then only other parameters shall come.\n",
        "    #properties are color, size\n",
        "\n",
        "    self.name=name\n",
        "    self.color=color\n",
        "    self.size=size\n",
        "\n",
        "  def sound(self,voice):\n",
        "    return f\"The {self.name} animal has a {self.color} color, is {self.size} in size and he {voice}.\"\n",
        "\n",
        "  def Type(self,kind):\n",
        "    return  f\"The {self.name} animal is {kind}\"\n",
        "\n",
        "obj1 = animal('Tiger',\"black-orange\",'large')\n",
        "print(obj1.sound('Roar'))\n",
        "print(obj1.Type('wild'))\n",
        "\n",
        "obj2=animal('elephant','grey',\"medium\")\n",
        "print(obj2.sound('snorts'))\n",
        "print(obj2.Type('wild'))\n",
        "\n",
        "\n",
        "obj3=animal('mouse','black','small')\n",
        "print(obj2.sound('Gnawing '))\n",
        "print(obj2.Type('domestic'))\n"
      ]
    },
    {
      "cell_type": "code",
      "source": [
        "class bird:\n",
        "\n",
        "    def __init__(self,name,color):\n",
        "\n",
        "      self.name=name\n",
        "      self.color=color\n",
        "\n",
        "    def sound(self,tone):\n",
        "      return f\"The {self.name} bird is {self.color} in color and has a {tone} tone.\"\n",
        "\n",
        "    def Size(self,figure):\n",
        "      return f\"the {self.name} bird is {figure}\"\n",
        "\n",
        "obj0= bird('cuckoo','varies')\n",
        "print(obj0.sound('chuckle'))\n",
        "print(obj0.Size('small'))\n",
        "\n",
        "obj2=bird('crow','black')\n",
        "print(obj2.sound('cawing'))\n",
        "print(obj2.Size('small'))\n",
        "\n",
        "obj3=bird('pigeon','white')\n",
        "print(obj3.sound('coo'))\n",
        "print(obj3.Size('medium'))\n",
        "\n",
        "\n",
        "\n",
        "\n"
      ],
      "metadata": {
        "colab": {
          "base_uri": "https://localhost:8080/"
        },
        "id": "S1JACDrJ35nU",
        "outputId": "544d9a8d-14f4-4a37-fee9-d2846db56f08"
      },
      "execution_count": null,
      "outputs": [
        {
          "output_type": "stream",
          "name": "stdout",
          "text": [
            "The cuckoo bird is varies in color and has a chuckle tone.\n",
            "the cuckoo bird is small\n",
            "The crow bird is black in color and has a cawing tone.\n",
            "the crow bird is small\n",
            "The pigeon bird is white in color and has a coo tone.\n",
            "the pigeon bird is medium\n"
          ]
        }
      ]
    },
    {
      "cell_type": "code",
      "source": [
        "class contact:\n",
        "\n",
        "  def __init__(self,name,roll_no):\n",
        "    self.name=name\n",
        "    self.roll_no=roll_no\n",
        "\n",
        "  def display(self,contact_no):\n",
        "    return f\"the person name is {self.name} and the roll no. is {self.roll_no}.The contact number is {contact_no}\"\n",
        "\n",
        "obj1=contact('sanvee',12)\n",
        "print(obj1.display(87877))\n",
        "\n",
        "obj2=contact('mousy',32)\n",
        "print(obj2.display(73873))\n",
        "\n",
        "obj3=contact('rosy',67)\n",
        "print(obj3.display(76786))"
      ],
      "metadata": {
        "id": "9vPryPrzBOp-",
        "colab": {
          "base_uri": "https://localhost:8080/"
        },
        "outputId": "7b8d8cc9-55db-476a-aa90-c57b2960d01b"
      },
      "execution_count": null,
      "outputs": [
        {
          "output_type": "stream",
          "name": "stdout",
          "text": [
            "the person name is sanvee and the roll no. is 12.The contact number is 87877\n",
            "the person name is mousy and the roll no. is 32.The contact number is 73873\n",
            "the person name is rosy and the roll no. is 67.The contact number is 76786\n"
          ]
        }
      ]
    },
    {
      "cell_type": "code",
      "source": [
        "class parrot:\n",
        "\n",
        "  def __init__(self,name,no_of_feathers):\n",
        "    self.name=name\n",
        "    self.no_of_feathers=no_of_feathers\n",
        "\n",
        "  def voice(self,tone):\n",
        "    return f\"the parrot's name is {self.name},number of feathers are {self.no_of_feathers} and the tone is {tone}\"\n",
        "\n",
        "  def bill(self,bill):\n",
        "    return f\"{self.name} parrot has {bill} \"\n",
        "\n",
        "obj1=parrot('popatlal',23)\n",
        "print(obj1.voice(\"squawk\"))\n",
        "print(obj1.bill(\"upper bill =rhinotheca\"))\n",
        "print(obj1.bill(\"lower bill=gnathotheca\"))\n"
      ],
      "metadata": {
        "colab": {
          "base_uri": "https://localhost:8080/"
        },
        "id": "Q1ChvTfeviKQ",
        "outputId": "7c774664-c040-461b-cdc5-86849ea318db"
      },
      "execution_count": null,
      "outputs": [
        {
          "output_type": "stream",
          "name": "stdout",
          "text": [
            "the parrot's name is popatlal,number of feathers are 23 and the tone is squawk\n",
            "popatlal parrot has upper bill =rhinotheca \n",
            "popatlal parrot has lower bill=gnathotheca \n"
          ]
        }
      ]
    },
    {
      "cell_type": "markdown",
      "source": [
        "Program to show that the variables with the values assign in the class declaration, are class variable\n",
        "   and variable inside method and constructors, are instance variable."
      ],
      "metadata": {
        "id": "AKWoDPp-X-iZ"
      }
    },
    {
      "cell_type": "code",
      "source": [
        "#class for nationality\n",
        "class nationalities:\n",
        "\n",
        "  #class variable\n",
        "  universal_identity_belonging='Nationalities'\n",
        "\n",
        "  #init  method or constructor\n",
        "  def __init__(self,country_of_origin):\n",
        "\n",
        "    #instance variable\n",
        "    self.country_of_origin=country_of_origin\n",
        "\n",
        "\n",
        "#objects of nationalities class\n",
        "rodrigues=nationalities('USA')\n",
        "pritchett=nationalities('USA')\n",
        "dolas=nationalities('INDIA')\n",
        "bandekar=nationalities('INDIA')\n",
        "chang=nationalities('CHINA')\n",
        "\n",
        "print(rodrigues.universal_identity_belonging)\n",
        "print(\"rodrigues\",rodrigues.country_of_origin)\n",
        "\n",
        "print(pritchett.universal_identity_belonging)\n",
        "print('pritchett',pritchett.country_of_origin)\n",
        "\n",
        "print(dolas.universal_identity_belonging)\n",
        "print('dolas',dolas.country_of_origin)\n",
        "\n",
        "print(bandekar.universal_identity_belonging)\n",
        "print('bandekar',bandekar.country_of_origin)\n",
        "\n",
        "print(chang.universal_identity_belonging)\n",
        "print('chang',chang.country_of_origin)\n",
        "\n",
        "# Class variables can be accessed using class name also\n",
        "\n",
        "print(\"accessing class variable using class name: \")\n",
        "print(nationalities.universal_identity_belonging)"
      ],
      "metadata": {
        "colab": {
          "base_uri": "https://localhost:8080/"
        },
        "id": "_QADodRdBlHL",
        "outputId": "72ff10d4-63a0-4e12-ff82-1ba66aceb225"
      },
      "execution_count": null,
      "outputs": [
        {
          "output_type": "stream",
          "name": "stdout",
          "text": [
            "Nationalities\n",
            "rodrigues USA\n",
            "Nationalities\n",
            "pritchett USA\n",
            "Nationalities\n",
            "dolas INDIA\n",
            "Nationalities\n",
            "bandekar INDIA\n",
            "Nationalities\n",
            "chang CHINA\n",
            "accessing class variable using class name: \n",
            "Nationalities\n"
          ]
        }
      ]
    },
    {
      "cell_type": "markdown",
      "source": [
        "Check whether encapsulation(private variable) handle with inheritance or not\n"
      ],
      "metadata": {
        "id": "Y71oYzd5YAmD"
      }
    },
    {
      "cell_type": "code",
      "source": [
        "\n",
        "class Vehicle:                       #parent class/ Base Class\n",
        "\n",
        "  def __init__(self,name,seating_capacity):\n",
        "    self.__name=name\n",
        "    self.seating_capacity=seating_capacity\n",
        "\n",
        "  def description(self):\n",
        "    return f\"The name is {self.__name} and the seating capacity is {self.seating_capacity}.\"\n",
        "\n",
        "class bus_diesel(Vehicle): # child class/ Derived class\n",
        "  pass\n",
        "\n",
        "class bus_electric(Vehicle): # child class/ Derived class\n",
        "  def pollution(self):\n",
        "    return \"this is description method of class bus_electric. \"\n",
        "\n",
        "obj1=bus_diesel(\"ASHOKLEYLAND_diesel\", 50)\n",
        "print(obj1.description())\n",
        "\n",
        "obj2=bus_electric(\"ASHOKLEYLAND_electric\",50)\n",
        "print(obj2.description())\n",
        "print(obj2.pollution())"
      ],
      "metadata": {
        "id": "7Il1X16nWpAY",
        "colab": {
          "base_uri": "https://localhost:8080/"
        },
        "outputId": "9d506ade-33b4-4b92-c663-8d0dce4f2f68"
      },
      "execution_count": null,
      "outputs": [
        {
          "output_type": "stream",
          "name": "stdout",
          "text": [
            "The name is ASHOKLEYLAND_diesel and the seating capacity is 50.\n",
            "The name is ASHOKLEYLAND_electric and the seating capacity is 50.\n",
            "this is description method of class bus_electric. \n"
          ]
        }
      ]
    },
    {
      "cell_type": "code",
      "source": [
        "class Vehicle:                       #parent class/ Base Class\n",
        "\n",
        "  def __init__(self,name,seating_capacity):\n",
        "    self.name=name\n",
        "    self.seating_capacity=seating_capacity\n",
        "\n",
        "  def description(self):\n",
        "    return f\"The name is {self.name} and the seating capacity is {self.seating_capacity}.\"\n",
        "\n",
        "class bus_diesel(Vehicle): # child class/ Derived class\n",
        "  pass\n",
        "\n",
        "class bus_electric(Vehicle): # child class/ Derived class\n",
        "  def pollution(self):\n",
        "    return \"this is description method of class bus_electric. \"\n",
        "\n",
        "obj1=bus_diesel(\"ASHOKLEYLAND_diesel\", 70)\n",
        "print(obj1.description())\n",
        "\n",
        "obj2=bus_electric(\"ASHOKLEYLAND_electric\",80)\n",
        "print(obj2.description())\n",
        "print(obj2.pollution())\n",
        "\n",
        "\n",
        "\n",
        "\n",
        "\n",
        "\n",
        "\n",
        ""
      ],
      "metadata": {
        "colab": {
          "base_uri": "https://localhost:8080/"
        },
        "id": "FC-5lIY017jT",
        "outputId": "7e8f63b1-bd91-4c0d-d1f5-4bf6119331be"
      },
      "execution_count": null,
      "outputs": [
        {
          "output_type": "stream",
          "name": "stdout",
          "text": [
            "The name is ASHOKLEYLAND_diesel and the seating capacity is 70.\n",
            "The name is ASHOKLEYLAND_electric and the seating capacity is 80.\n",
            "this is description method of class bus_electric. \n"
          ]
        }
      ]
    },
    {
      "cell_type": "markdown",
      "source": [
        "Check whether encapsulation(protect variable) handle with inheritance or not\n"
      ],
      "metadata": {
        "id": "apL5PsU9IvLt"
      }
    },
    {
      "cell_type": "code",
      "source": [
        "\n",
        "class Vehicle:                       #parent class/ Base Class\n",
        "\n",
        "  def __init__(self,name,seating_capacity):\n",
        "    self._name=name\n",
        "    self.seating_capacity=seating_capacity\n",
        "\n",
        "  def description(self):\n",
        "    return f\"The name is {self._name} and the seating capacity is {self.seating_capacity}.\"\n",
        "\n",
        "class bus_diesel(Vehicle): # child class/ Derived class\n",
        "  pass\n",
        "\n",
        "  #this child class can access all the functions of parent class.\n",
        "\n",
        "class bus_electric(Vehicle): # child class/ Derived class\n",
        "  def pollution(self):\n",
        "    return \"this is description method of class bus_electric. \"\n",
        "\n",
        "obj1=bus_diesel(\"ASHOKLEYLAND_diesel\", 50)\n",
        "print(obj1.description())\n",
        "\n",
        "obj2=bus_electric(\"ASHOKLEYLAND_electric\",50)\n",
        "print(obj2.description())\n",
        "print(obj2.pollution())"
      ],
      "metadata": {
        "colab": {
          "base_uri": "https://localhost:8080/"
        },
        "id": "Z-25x-DRIxCe",
        "outputId": "b4d7b8a8-488f-4d2c-d3ce-8423c3c087a7"
      },
      "execution_count": null,
      "outputs": [
        {
          "output_type": "stream",
          "name": "stdout",
          "text": [
            "The name is ASHOKLEYLAND_diesel and the seating capacity is 50.\n",
            "The name is ASHOKLEYLAND_electric and the seating capacity is 50.\n",
            "this is description method of class bus_electric. \n"
          ]
        }
      ]
    },
    {
      "cell_type": "markdown",
      "source": [
        " Define a class attribute color with a default value white. i.e. Every vehicle should be white.\n"
      ],
      "metadata": {
        "id": "4nBIa3VYSMkZ"
      }
    },
    {
      "cell_type": "code",
      "source": [
        "class vehicle:\n",
        "  color=\"white\"\n",
        "\n",
        "  def __init__(self,name,seating_capacity):\n",
        "\n",
        "    self.name=name\n",
        "    self.seating_capacity=seating_capacity\n",
        "\n",
        "  def display(self):\n",
        "    return f\"the {self.name} and the seating capacity is {self.seating_capacity}.The color is {self.color}.\"\n",
        "\n",
        "  def speed(self,speed_limit):\n",
        "    return f\"The {self.name} and the speed limit is {speed_limit} km/hr.\"\n",
        "\n",
        "car=vehicle(\"suzuki\",4)\n",
        "print(car.display())\n",
        "print(car.speed(126))\n",
        "\n",
        "jeep=vehicle(\"thar\",6)\n",
        "print(jeep.display())\n",
        "print(jeep.speed(500))\n",
        "\n",
        "bike=vehicle(\"pulsar\",2)\n",
        "print(bike.display())\n",
        "print(bike.speed(105))\n",
        "\n",
        "\n"
      ],
      "metadata": {
        "colab": {
          "base_uri": "https://localhost:8080/"
        },
        "id": "V-PKOd_bRDvS",
        "outputId": "7acb7c46-2bd8-4a24-892c-ea2e65f3d91d"
      },
      "execution_count": null,
      "outputs": [
        {
          "output_type": "stream",
          "name": "stdout",
          "text": [
            "the suzuki and the seating capacity is 4.The color is white.\n",
            "The suzuki and the speed limit is 126 km/hr.\n",
            "the thar and the seating capacity is 6.The color is white.\n",
            "The thar and the speed limit is 500 km/hr.\n",
            "the pulsar and the seating capacity is 2.The color is white.\n",
            "The pulsar and the speed limit is 105 km/hr.\n"
          ]
        }
      ]
    },
    {
      "cell_type": "markdown",
      "source": [
        "Write a program to build a simple Student Management System using Python which can perform the following operations:\n",
        "\n",
        "Accept\n",
        "Display\n",
        "Search\n",
        "Delete\n",
        "Update"
      ],
      "metadata": {
        "id": "_l7A3gC1j5cU"
      }
    },
    {
      "cell_type": "code",
      "source": [
        "# This is simplest Student data management program in python\n",
        "\n",
        "# Create class \"Student\"\n",
        "class Student:\n",
        "\n",
        "# Constructor\n",
        "\tdef __init__(self, name, rollno, m1, m2):\n",
        "\t\tself.name = name\n",
        "\t\tself.rollno = rollno\n",
        "\t\tself.m1 = m1\n",
        "\t\tself.m2 = m2\n",
        "\n",
        "\t# Function to create and append new student\n",
        "\tdef accept(self, Name, Rollno, marks1, marks2):\n",
        "\n",
        "# use ' int(input()) ' method to take input from user\n",
        "\t\tob = Student(Name, Rollno, marks1, marks2)\n",
        "\t\tls.append(ob)\n",
        "\n",
        "\t# Function to display student details\n",
        "\tdef display(self, ob):\n",
        "\t\tprint(\"Name : \", ob.name)\n",
        "\t\tprint(\"RollNo : \", ob.rollno)\n",
        "\t\tprint(\"Marks1 : \", ob.m1)\n",
        "\t\tprint(\"Marks2 : \", ob.m2)\n",
        "\t\tprint(\"\\n\")\n",
        "\n",
        "\t# Search Function\n",
        "\tdef search(self, rn):\n",
        "\t\tfor i in range(ls.__len__()):\n",
        "\t\t\tif(ls[i].rollno == rn):\n",
        "\t\t\t\treturn i\n",
        "\n",
        "\t# Delete Function\n",
        "\tdef delete(self, rn):\n",
        "\t\ti = obj.search(rn)\n",
        "\t\tdel ls[i]\n",
        "\n",
        "\t# Update Function\n",
        "\tdef update(self, rn, No):\n",
        "\t\ti = obj.search(rn)\n",
        "\t\troll = No\n",
        "\t\tls[i].rollno = roll\n",
        "\n",
        "\n",
        "# Create a list to add Students\n",
        "ls = []\n",
        "# an object of Student class\n",
        "obj = Student('', 0, 0, 0)\n",
        "\n",
        "print(\"\\nOperations used, \")\n",
        "print(\"\\n1.Accept Student details\\n2.Display Student Details\\n3.Search Details of a Student\\n4.Delete Details of Student\\n5.Update Student Details\\n6.Exit\")\n",
        "\n",
        "# ch = int(input(\"Enter choice:\"))\n",
        "# if(ch == 1):\n",
        "obj.accept(\"A\", 1, 100, 100)\n",
        "obj.accept(\"B\", 2, 90, 90)\n",
        "obj.accept(\"C\", 3, 80, 80)\n",
        "\n",
        "# elif(ch == 2):\n",
        "print(\"\\n\")\n",
        "print(\"\\nList of Students\\n\")\n",
        "for i in range(ls.__len__()):\n",
        "\tobj.display(ls[i])\n",
        "\n",
        "# elif(ch == 3):\n",
        "print(\"\\n Student Found, \")\n",
        "s = obj.search(2)\n",
        "obj.display(ls[s])\n",
        "\n",
        "# elif(ch == 4):\n",
        "obj.delete(2)\n",
        "print(ls.__len__())\n",
        "print(\"List after deletion\")\n",
        "for i in range(ls.__len__()):\n",
        "\tobj.display(ls[i])\n",
        "\n",
        "# elif(ch == 5):\n",
        "obj.update(3, 2)\n",
        "print(ls.__len__())\n",
        "print(\"List after updation\")\n",
        "for i in range(ls.__len__()):\n",
        "\tobj.display(ls[i])\n",
        "\n",
        "# else:\n",
        "print(\"Thank You !\")\n",
        "\n",
        "\n",
        "\n"
      ],
      "metadata": {
        "colab": {
          "base_uri": "https://localhost:8080/"
        },
        "id": "P3CVS_ZZb9Xb",
        "outputId": "32a25762-d748-4bfd-b5ad-e166255d0cdf"
      },
      "execution_count": null,
      "outputs": [
        {
          "output_type": "stream",
          "name": "stdout",
          "text": [
            "\n",
            "Operations used, \n",
            "\n",
            "1.Accept Student details\n",
            "2.Display Student Details\n",
            "3.Search Details of a Student\n",
            "4.Delete Details of Student\n",
            "5.Update Student Details\n",
            "6.Exit\n",
            "\n",
            "\n",
            "\n",
            "List of Students\n",
            "\n",
            "Name :  A\n",
            "RollNo :  1\n",
            "Marks1 :  100\n",
            "Marks2 :  100\n",
            "\n",
            "\n",
            "Name :  B\n",
            "RollNo :  2\n",
            "Marks1 :  90\n",
            "Marks2 :  90\n",
            "\n",
            "\n",
            "Name :  C\n",
            "RollNo :  3\n",
            "Marks1 :  80\n",
            "Marks2 :  80\n",
            "\n",
            "\n",
            "\n",
            " Student Found, \n",
            "Name :  B\n",
            "RollNo :  2\n",
            "Marks1 :  90\n",
            "Marks2 :  90\n",
            "\n",
            "\n",
            "2\n",
            "List after deletion\n",
            "Name :  A\n",
            "RollNo :  1\n",
            "Marks1 :  100\n",
            "Marks2 :  100\n",
            "\n",
            "\n",
            "Name :  C\n",
            "RollNo :  3\n",
            "Marks1 :  80\n",
            "Marks2 :  80\n",
            "\n",
            "\n",
            "2\n",
            "List after updation\n",
            "Name :  A\n",
            "RollNo :  1\n",
            "Marks1 :  100\n",
            "Marks2 :  100\n",
            "\n",
            "\n",
            "Name :  C\n",
            "RollNo :  2\n",
            "Marks1 :  80\n",
            "Marks2 :  80\n",
            "\n",
            "\n",
            "Thank You !\n"
          ]
        }
      ]
    },
    {
      "cell_type": "markdown",
      "source": [
        "Create a Bus class that inherits from the vehicle class.\n",
        "  Give the capacity arguement of Bus.seating_capacity() a default value of 50."
      ],
      "metadata": {
        "id": "LZrjJsUgP9AR"
      }
    },
    {
      "cell_type": "code",
      "source": [
        "class Vehicle:\n",
        "  def __init__(self,name,speed,mileage):\n",
        "    self.name=name\n",
        "    self.speed=speed\n",
        "    self.mileage=mileage\n",
        "\n",
        "  def seating_capacity(self,capacity):\n",
        "    return f\"the seating capacity of a {self.name} is {capacity} passengers.\"\n",
        "\n",
        "class Bus(Vehicle):\n",
        "  def seating_capacity(self,capacity=67):\n",
        "    return super().seating_capacity(capacity=50)\n",
        "\n",
        "School_bus=Bus(\"School Volvo\",566,78)\n",
        "print(School_bus.seating_capacity(8))\n",
        "\n",
        "\n"
      ],
      "metadata": {
        "colab": {
          "base_uri": "https://localhost:8080/"
        },
        "id": "xrEb19DLN47F",
        "outputId": "660e6aaf-3b6e-4698-944b-7f181c7fccc3"
      },
      "execution_count": null,
      "outputs": [
        {
          "output_type": "stream",
          "name": "stdout",
          "text": [
            "the seating capacity of a School Volvo is 50 passengers.\n"
          ]
        }
      ]
    },
    {
      "cell_type": "code",
      "source": [
        "class Vehicle:\n",
        "  def __init__ (self,name,mileage,capacity):\n",
        "    self.name=name\n",
        "    self.mileage=mileage\n",
        "    self.capacity=capacity\n",
        "\n",
        "  def fare(self):\n",
        "    return self.capacity*100\n",
        "\n",
        "class Bus(Vehicle):\n",
        "  def fare(self):\n",
        "    amount=super().fare()\n",
        "    amount+=amount*10/100\n",
        "    return amount\n",
        "\n",
        "School_bus=Bus(\"school volvo\",12,50)\n",
        "print(\"total bus fare is: \", School_bus.fare())\n"
      ],
      "metadata": {
        "colab": {
          "base_uri": "https://localhost:8080/"
        },
        "id": "sE5kbVWlRD0Q",
        "outputId": "1d1d75d4-91d1-4c0a-d02d-147fc22c6099"
      },
      "execution_count": null,
      "outputs": [
        {
          "output_type": "stream",
          "name": "stdout",
          "text": [
            "total bus fare is:  5500.0\n"
          ]
        }
      ]
    },
    {
      "cell_type": "code",
      "source": [
        "#Polymorphism\n",
        "\n",
        "#method overloading, overriding- function name should be the same\n",
        "\n",
        "class rectangle:\n",
        "\n",
        "  def area(self,length,breadth):\n",
        "\n",
        "    A = length * breadth\n",
        "    return A\n",
        "\n",
        "class cuboid(rectangle):\n",
        "\n",
        "  def area(self,length,breadth,height):\n",
        "\n",
        "    area=length * breadth * height\n",
        "    return area\n",
        "\n",
        "\n",
        "obj1=rectangle()\n",
        "print(obj1.area(4,7))\n",
        "\n",
        "obj2=cuboid()\n",
        "print(obj2.area(6,7,8))\n",
        "\n",
        "\n",
        "\n",
        "\n",
        "\n"
      ],
      "metadata": {
        "colab": {
          "base_uri": "https://localhost:8080/"
        },
        "id": "jVIOvp1zTqW1",
        "outputId": "60f04b8a-0f91-4f04-ea69-edf4bee5010b"
      },
      "execution_count": null,
      "outputs": [
        {
          "output_type": "stream",
          "name": "stdout",
          "text": [
            "28\n",
            "336\n"
          ]
        }
      ]
    },
    {
      "cell_type": "code",
      "source": [
        "#Exceptional handling\n",
        "\n",
        "\n",
        "\n"
      ],
      "metadata": {
        "id": "PQEx1PC8jjGS"
      },
      "execution_count": null,
      "outputs": []
    }
  ]
}