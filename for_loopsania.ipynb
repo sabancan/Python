{
  "nbformat": 4,
  "nbformat_minor": 0,
  "metadata": {
    "colab": {
      "provenance": []
    },
    "kernelspec": {
      "name": "python3",
      "display_name": "Python 3"
    },
    "language_info": {
      "name": "python"
    }
  },
  "cells": [
    {
      "cell_type": "markdown",
      "source": [
        "Q1. Write a program to print first 10 even numbers."
      ],
      "metadata": {
        "id": "DzVet-7rPQ_l"
      }
    },
    {
      "cell_type": "code",
      "source": [
        "for i in range(2,21,2):\n",
        "\n",
        "  # 0 is a composite number so not considered even\n",
        "  print(i)"
      ],
      "metadata": {
        "colab": {
          "base_uri": "https://localhost:8080/"
        },
        "id": "2hdtf2x_PRMx",
        "outputId": "8da3650f-f260-4ce5-fc7a-16f58e0eb3e5"
      },
      "execution_count": null,
      "outputs": [
        {
          "output_type": "stream",
          "name": "stdout",
          "text": [
            "2\n",
            "4\n",
            "6\n",
            "8\n",
            "10\n",
            "12\n",
            "14\n",
            "16\n",
            "18\n",
            "20\n"
          ]
        }
      ]
    },
    {
      "cell_type": "markdown",
      "source": [
        "Q2. Write a program to print first 10 odd numbers.\n"
      ],
      "metadata": {
        "id": "3vfCcvIsPRmq"
      }
    },
    {
      "cell_type": "code",
      "source": [
        "for i in range(3,22,2):\n",
        "  print(i)"
      ],
      "metadata": {
        "colab": {
          "base_uri": "https://localhost:8080/"
        },
        "id": "6udmFrVcPRvG",
        "outputId": "449dff16-873a-44ef-b82d-d49015c390b0"
      },
      "execution_count": null,
      "outputs": [
        {
          "output_type": "stream",
          "name": "stdout",
          "text": [
            "3\n",
            "5\n",
            "7\n",
            "9\n",
            "11\n",
            "13\n",
            "15\n",
            "17\n",
            "19\n",
            "21\n"
          ]
        }
      ]
    },
    {
      "cell_type": "markdown",
      "source": [
        "Q3. Write a program to print first 10 even numbers in reverse order.\n"
      ],
      "metadata": {
        "id": "N95HLnJLPR9c"
      }
    },
    {
      "cell_type": "code",
      "source": [
        "for i in range(20,1,-2):\n",
        "  print(i)"
      ],
      "metadata": {
        "colab": {
          "base_uri": "https://localhost:8080/"
        },
        "id": "byDAVJr_PSFD",
        "outputId": "eb55b079-1a15-48f8-cad4-1154dd1c6bff"
      },
      "execution_count": null,
      "outputs": [
        {
          "output_type": "stream",
          "name": "stdout",
          "text": [
            "20\n",
            "18\n",
            "16\n",
            "14\n",
            "12\n",
            "10\n",
            "8\n",
            "6\n",
            "4\n",
            "2\n"
          ]
        }
      ]
    },
    {
      "cell_type": "markdown",
      "source": [
        "Q4. Write a program to find the factorial of a number.\n"
      ],
      "metadata": {
        "id": "OiMA1kT4PSM7"
      }
    },
    {
      "cell_type": "code",
      "source": [
        "num = int(input(\"Enter a number: \"))\n",
        "factorial = 1\n",
        "if num < 0:\n",
        "   print(\" Factorial does not exist for negative numbers\")\n",
        "elif num == 0:\n",
        "   print(\"The factorial of 0 is 1\")\n",
        "else:\n",
        "   for i in range(1,num + 1):\n",
        "       factorial = factorial*i\n",
        "   print(\"The factorial of\",num,\"is\",factorial)"
      ],
      "metadata": {
        "id": "9X6cpSKCPSVW",
        "colab": {
          "base_uri": "https://localhost:8080/"
        },
        "outputId": "a56ebce2-333d-49e5-d65a-8a58c847cbd0"
      },
      "execution_count": null,
      "outputs": [
        {
          "output_type": "stream",
          "name": "stdout",
          "text": [
            "Enter a number: 5\n",
            "The factorial of 5 is 120\n"
          ]
        }
      ]
    },
    {
      "cell_type": "markdown",
      "source": [
        "Q5. Write a program to check whether a number is prime or not.\n",
        "\n",
        "\n",
        "\n"
      ],
      "metadata": {
        "id": "Vwt3FzCjPSeC"
      }
    },
    {
      "cell_type": "code",
      "source": [
        "# Number to be checked for prime\n",
        "\n",
        "n = 5\n",
        "\n",
        "# Check if the number is greater than 1\n",
        "\n",
        "if n > 1:\n",
        "\tfor i in range(2, int(n/2)+1):\n",
        "\t\tif (n % i) == 0:\n",
        "\t\t\tprint(num, \"is not a prime number\")\n",
        "\t\tbreak\n",
        "\telse:\n",
        "\t\tprint(n, \"is a prime number\")\n",
        "# If the number is less than 1, its also not a prime number.\n",
        "else:\n",
        "\tprint(n, \"is not a prime number\")"
      ],
      "metadata": {
        "id": "DY2sqYVMPSmX"
      },
      "execution_count": null,
      "outputs": []
    },
    {
      "cell_type": "markdown",
      "source": [
        "\n",
        "Q6. Write a program to print numbers from 1 to 20 except multiple of 2 & 3.\n",
        "\n"
      ],
      "metadata": {
        "id": "IUvUQmtgPSup"
      }
    },
    {
      "cell_type": "code",
      "source": [
        "for i in range(1,20):\n",
        "  if i%2 != 0 and i%3!=0:\n",
        "    print(i)\n",
        "\n",
        "#for i in range()"
      ],
      "metadata": {
        "colab": {
          "base_uri": "https://localhost:8080/"
        },
        "id": "BSNCvNONPS2J",
        "outputId": "f6a6f0fe-3301-4a09-a79b-c46efe40004b"
      },
      "execution_count": null,
      "outputs": [
        {
          "output_type": "stream",
          "name": "stdout",
          "text": [
            "1\n",
            "5\n",
            "7\n",
            "11\n",
            "13\n",
            "17\n",
            "19\n"
          ]
        }
      ]
    },
    {
      "cell_type": "markdown",
      "source": [
        "Q7. Write a program to accept 10 numbers from the user and display it’s average.\n"
      ],
      "metadata": {
        "id": "hzflnksMQTgP"
      }
    },
    {
      "cell_type": "code",
      "source": [
        "Sum = 0\n",
        "\n",
        "print(\"Please Enter 10 Numbers\\n\")\n",
        "for i in range(1, 11):\n",
        "    num = int(input(\"Number %d = \" %i))\n",
        "    Sum = Sum + num\n",
        "\n",
        "avg = Sum / 10\n",
        "\n",
        "print(\"The Sum of 10 Numbers     = \", Sum)\n",
        "print(\"The Average of 10 Numbers = \", avg)"
      ],
      "metadata": {
        "id": "m5Y_GOFUQTxj",
        "colab": {
          "base_uri": "https://localhost:8080/"
        },
        "outputId": "8cfea15a-7a72-457c-8fa3-afd8001dd58b"
      },
      "execution_count": null,
      "outputs": [
        {
          "output_type": "stream",
          "name": "stdout",
          "text": [
            "Please Enter 10 Numbers\n",
            "\n",
            "Number 1 = 5\n",
            "Number 2 = 6\n",
            "Number 3 = 4\n",
            "Number 4 = 3\n",
            "Number 5 = 7\n",
            "Number 6 = 45\n",
            "Number 7 = 34\n",
            "Number 8 = 21\n",
            "Number 9 = 87\n",
            "Number 10 = 5\n",
            "The Sum of 10 Numbers     =  217\n",
            "The Average of 10 Numbers =  21.7\n"
          ]
        }
      ]
    },
    {
      "cell_type": "markdown",
      "source": [
        "Q8. Write a program to accept 10 numbers from the user and display the largest & smallest number number.\n"
      ],
      "metadata": {
        "id": "Iohn636TQT6E"
      }
    },
    {
      "cell_type": "code",
      "source": [
        "l=[]\n",
        "for i in range(0,10):\n",
        "  number=int(input(\"enter 10 numbers : \"))\n",
        "  l.append(number)\n",
        "print(l)\n",
        "l.sort()\n",
        "\n",
        "print(\"smallest number is\", l[0])\n",
        "print(\"largest number is\", l[-1])"
      ],
      "metadata": {
        "id": "R2V3jeunQUCU"
      },
      "execution_count": null,
      "outputs": []
    },
    {
      "cell_type": "markdown",
      "source": [
        "\n",
        "\n",
        "\n",
        "\n",
        "\n",
        "\n",
        "Q9. Write a program to print only odd numbers from the given list using for loop. L = [23, 45, 32, 25, 46, 33, 71, 90]\n"
      ],
      "metadata": {
        "id": "QT-NCLQAQUK-"
      }
    },
    {
      "cell_type": "code",
      "source": [
        "L = [123, 45, 32, 25, 46, 33, 71, 90]\n",
        "# iteration\n",
        "for num in L:\n",
        "   # check\n",
        "   if num % 2 != 0:\n",
        "      print(num, end = \" \")"
      ],
      "metadata": {
        "id": "q3kRWr6aQUTA",
        "colab": {
          "base_uri": "https://localhost:8080/"
        },
        "outputId": "e72fc8ed-6498-4a25-f221-a87926d9dafb"
      },
      "execution_count": null,
      "outputs": [
        {
          "output_type": "stream",
          "name": "stdout",
          "text": [
            "123 45 25 33 71 "
          ]
        }
      ]
    },
    {
      "cell_type": "markdown",
      "source": [
        "Q10. Write a program to print the following pattern\n",
        "\n",
        "5 5 5 5 5\n",
        "4 4 4 4\n",
        "3 3 3\n",
        "2 2\n",
        "1"
      ],
      "metadata": {
        "id": "dLguEsRLQb5z"
      }
    },
    {
      "cell_type": "code",
      "source": [
        "for i in range(1, 5+1):\n",
        "\n",
        "   for j in range(i):\n",
        "\n",
        "       print(i, end=\" \")\n",
        "\n",
        "   print()"
      ],
      "metadata": {
        "colab": {
          "base_uri": "https://localhost:8080/"
        },
        "id": "TSN2nvPbQcDH",
        "outputId": "05f86849-c43b-4f98-baef-fe2604aed276"
      },
      "execution_count": null,
      "outputs": [
        {
          "output_type": "stream",
          "name": "stdout",
          "text": [
            "1 \n",
            "2 2 \n",
            "3 3 3 \n",
            "4 4 4 4 \n",
            "5 5 5 5 5 \n"
          ]
        }
      ]
    },
    {
      "cell_type": "code",
      "source": [
        "for i in range(1,6):\n",
        "  for j in range(5,i,-1):\n",
        "    print(\" \",end=\"\") # printing spaces\n",
        "  for k in range(1,2*i):\n",
        "    print(\"*\",end=\"\")\n",
        "  print()\n"
      ],
      "metadata": {
        "id": "GLpVvvYI9QCP",
        "colab": {
          "base_uri": "https://localhost:8080/"
        },
        "outputId": "bdead17a-355c-4b4e-a473-7cb129bee2fe"
      },
      "execution_count": null,
      "outputs": [
        {
          "output_type": "stream",
          "name": "stdout",
          "text": [
            "    *\n",
            "   ***\n",
            "  *****\n",
            " *******\n",
            "*********\n"
          ]
        }
      ]
    },
    {
      "cell_type": "markdown",
      "source": [
        "WAP first 10 natural numbers"
      ],
      "metadata": {
        "id": "FZvE0SuZ-UzG"
      }
    },
    {
      "cell_type": "code",
      "source": [
        "for i in range(1,11):\n",
        "  print(i)"
      ],
      "metadata": {
        "id": "mnv8iRgi-Vpd"
      },
      "execution_count": null,
      "outputs": []
    },
    {
      "cell_type": "markdown",
      "source": [
        "WaP to print first even 10 numbers in reverse order\n"
      ],
      "metadata": {
        "id": "tGNRDbVQ-cD1"
      }
    },
    {
      "cell_type": "code",
      "source": [
        "a=20\n",
        "\n",
        "while a>=2:\n",
        "\n",
        "   print(a)\n",
        "\n",
        "   a=a-2"
      ],
      "metadata": {
        "id": "9s2cXIngAf4w",
        "colab": {
          "base_uri": "https://localhost:8080/"
        },
        "outputId": "26dbd6f7-bc4b-4662-aa4a-f30d2b5018e5"
      },
      "execution_count": null,
      "outputs": [
        {
          "output_type": "stream",
          "name": "stdout",
          "text": [
            "20\n",
            "18\n",
            "16\n",
            "14\n",
            "12\n",
            "10\n",
            "8\n",
            "6\n",
            "4\n",
            "2\n"
          ]
        }
      ]
    },
    {
      "cell_type": "markdown",
      "source": [
        "WAP to display product of the digits of a number accepted from the user"
      ],
      "metadata": {
        "id": "_Z4CHhOpBIgl"
      }
    },
    {
      "cell_type": "code",
      "source": [
        "num=int(input(\"enter any number\"))\n",
        "p=1\n",
        "while(num):\n",
        "  r=num%10\n",
        "  p=p*r\n",
        "  num=num//10\n",
        "print(\"product of digits is\", p)"
      ],
      "metadata": {
        "id": "NBKXI5HPBT6o"
      },
      "execution_count": null,
      "outputs": []
    },
    {
      "cell_type": "markdown",
      "source": [
        "WAP print TYB-COM 5 times using loops\n",
        "\n"
      ],
      "metadata": {
        "id": "JLjoh1qqaxxb"
      }
    },
    {
      "cell_type": "code",
      "source": [
        "for i in range(0,5):\n",
        "  print('TYB-COM')"
      ],
      "metadata": {
        "id": "Swo0knt6ayJw",
        "colab": {
          "base_uri": "https://localhost:8080/"
        },
        "outputId": "8458e755-d17a-4a60-ed86-14116636f4f4"
      },
      "execution_count": null,
      "outputs": [
        {
          "output_type": "stream",
          "name": "stdout",
          "text": [
            "TYB-COM\n",
            "TYB-COM\n",
            "TYB-COM\n",
            "TYB-COM\n",
            "TYB-COM\n"
          ]
        }
      ]
    },
    {
      "cell_type": "markdown",
      "source": [
        "WAP print number from 100 to 1.Print 10 nos. on each line."
      ],
      "metadata": {
        "id": "mIgm3kp7ayUC"
      }
    },
    {
      "cell_type": "code",
      "source": [
        "for i in range(1,11):\n",
        "  print(i,end=\" \")\n",
        "\n",
        "print('\\n')\n",
        "\n",
        "\n",
        "for i in range(11,21):\n",
        "  print(i,end=' ')\n",
        "\n",
        "print('\\n')\n",
        "\n",
        "\n",
        "for i in range(21,31):\n",
        "  print(i,end=' ')\n",
        "\n",
        "print('\\n')\n",
        "\n",
        "for i in range(31,41):\n",
        "  print(i,end=' ')\n",
        "\n",
        "print('\\n')\n",
        "\n",
        "\n",
        "for i in range(41,51):\n",
        "  print(i,end=' ')\n",
        "\n",
        "print('\\n')\n",
        "\n",
        "\n",
        "for i in range(51,61):\n",
        "  print(i,end=' ')\n",
        "\n",
        "print('\\n')\n",
        "\n",
        "\n",
        "for i in range(61,71):\n",
        "  print(i,end=' ')\n",
        "\n",
        "print('\\n')\n",
        "\n",
        "\n",
        "for i in range(71,81):\n",
        "  print(i,end=' ')\n",
        "\n",
        "\n",
        "print('\\n')\n",
        "\n",
        "\n",
        "for i in range(81,91):\n",
        "  print(i,end=' ')\n",
        "\n",
        "print('\\n')\n",
        "\n",
        "\n",
        "for i in range(91,101):\n",
        "  print(i,end=' ')\n",
        "\n",
        "print('\\n')\n",
        "\n",
        "\n",
        "\n",
        "\n",
        "\n",
        "\n",
        "\n",
        "\n"
      ],
      "metadata": {
        "id": "f79OU8g1aycU",
        "colab": {
          "base_uri": "https://localhost:8080/"
        },
        "outputId": "1465884e-6e13-4f0b-e60a-36a1f5b9603b"
      },
      "execution_count": null,
      "outputs": [
        {
          "output_type": "stream",
          "name": "stdout",
          "text": [
            "1 2 3 4 5 6 7 8 9 10 \n",
            "\n",
            "11 12 13 14 15 16 17 18 19 20 \n",
            "\n",
            "21 22 23 24 25 26 27 28 29 30 \n",
            "\n",
            "31 32 33 34 35 36 37 38 39 40 \n",
            "\n",
            "41 42 43 44 45 46 47 48 49 50 \n",
            "\n",
            "51 52 53 54 55 56 57 58 59 60 \n",
            "\n",
            "61 62 63 64 65 66 67 68 69 70 \n",
            "\n",
            "71 72 73 74 75 76 77 78 79 80 \n",
            "\n",
            "81 82 83 84 85 86 87 88 89 90 \n",
            "\n",
            "91 92 93 94 95 96 97 98 99 100 \n",
            "\n"
          ]
        }
      ]
    },
    {
      "cell_type": "markdown",
      "source": [
        "WAP to find and print sum and product of first 5 natural number\n",
        "\n",
        "\n",
        "\n"
      ],
      "metadata": {
        "id": "29CJKT8faylN"
      }
    },
    {
      "cell_type": "code",
      "source": [
        "# Sum of natural numbers up to num\n",
        "\n",
        "num = 5\n",
        "\n",
        "if num < 0:\n",
        "   print(\"Enter a positive number\")\n",
        "else:\n",
        "   sum = 0\n",
        "   # use while loop to iterate until zero\n",
        "   while(num > 0):\n",
        "       sum += num\n",
        "       num -= 1\n",
        "   print(\"The sum is\", sum)"
      ],
      "metadata": {
        "id": "hLOJsPpIaytm",
        "colab": {
          "base_uri": "https://localhost:8080/"
        },
        "outputId": "a1f3de7d-8b4d-4cb3-fe80-5e2d6e3d2f04"
      },
      "execution_count": null,
      "outputs": [
        {
          "output_type": "stream",
          "name": "stdout",
          "text": [
            "The sum is 15\n"
          ]
        }
      ]
    },
    {
      "cell_type": "markdown",
      "source": [
        "\n",
        "\n",
        "\n",
        "\n",
        "\n",
        "WAP to find and print the factorial of a 4\n",
        "\n",
        "\n"
      ],
      "metadata": {
        "id": "VH8CJim5ay2T"
      }
    },
    {
      "cell_type": "code",
      "source": [
        "num = 4\n",
        "\n",
        "\n",
        "# To take input from the user\n",
        "#num = int(input(\"Enter a number: \"))\n",
        "\n",
        "factorial = 1\n",
        "\n",
        "# check if the number is negative, positive or zero\n",
        "if num < 0:\n",
        "   print(\"Sorry, factorial does not exist for negative numbers\")\n",
        "elif num == 0:\n",
        "   print(\"The factorial of 0 is 1\")\n",
        "else:\n",
        "   for i in range(1,num + 1):\n",
        "       factorial = factorial*i\n",
        "   print(\"The factorial of\",num,\"is\",factorial)"
      ],
      "metadata": {
        "id": "tnKRAHXJay-O",
        "colab": {
          "base_uri": "https://localhost:8080/"
        },
        "outputId": "5cc62d3d-7014-44e9-ab7a-bdb1173a4fba"
      },
      "execution_count": null,
      "outputs": [
        {
          "output_type": "stream",
          "name": "stdout",
          "text": [
            "The factorial of 4 is 24\n"
          ]
        }
      ]
    },
    {
      "cell_type": "markdown",
      "source": [
        "WAP to  print sum of all even nos. from 10 to 100"
      ],
      "metadata": {
        "id": "GjlD-LmsazG1"
      }
    },
    {
      "cell_type": "code",
      "source": [
        "\n",
        "maximum = int(input(\" Please Enter the Maximum Value : \"))\n",
        "total = 10\n",
        "\n",
        "for number in range(1, maximum+1):\n",
        "    if(number % 2 == 0):\n",
        "        print(\"{0}\".format(number))\n",
        "        total = total + number\n",
        "\n",
        "print(\"The Sum of Even Numbers from 1 to {0} = {1}\".format(number, total))"
      ],
      "metadata": {
        "id": "rKqtCcWdAVDa",
        "colab": {
          "base_uri": "https://localhost:8080/"
        },
        "outputId": "86090889-b200-4a1c-e57f-f234a95ab1db"
      },
      "execution_count": null,
      "outputs": [
        {
          "output_type": "stream",
          "name": "stdout",
          "text": [
            " Please Enter the Maximum Value : 78\n",
            "2\n",
            "4\n",
            "6\n",
            "8\n",
            "10\n",
            "12\n",
            "14\n",
            "16\n",
            "18\n",
            "20\n",
            "22\n",
            "24\n",
            "26\n",
            "28\n",
            "30\n",
            "32\n",
            "34\n",
            "36\n",
            "38\n",
            "40\n",
            "42\n",
            "44\n",
            "46\n",
            "48\n",
            "50\n",
            "52\n",
            "54\n",
            "56\n",
            "58\n",
            "60\n",
            "62\n",
            "64\n",
            "66\n",
            "68\n",
            "70\n",
            "72\n",
            "74\n",
            "76\n",
            "78\n",
            "The Sum of Even Numbers from 1 to 78 = 1570\n"
          ]
        }
      ]
    },
    {
      "cell_type": "markdown",
      "source": [],
      "metadata": {
        "id": "LszpJI2vbzaH"
      }
    }
  ]
}