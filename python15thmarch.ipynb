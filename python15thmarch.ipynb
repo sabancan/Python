{
  "nbformat": 4,
  "nbformat_minor": 0,
  "metadata": {
    "colab": {
      "provenance": []
    },
    "kernelspec": {
      "name": "python3",
      "display_name": "Python 3"
    },
    "language_info": {
      "name": "python"
    }
  },
  "cells": [
    {
      "cell_type": "code",
      "execution_count": null,
      "metadata": {
        "colab": {
          "base_uri": "https://localhost:8080/"
        },
        "id": "q7Gh0E6bzzv-",
        "outputId": "f6977ee4-d5ea-42ec-947c-00c3be15dfff"
      },
      "outputs": [
        {
          "metadata": {
            "tags": null
          },
          "name": "stdout",
          "output_type": "stream",
          "text": [
            "student's marksheet\n"
          ]
        }
      ],
      "source": [
        "print(\"student's marksheet\")\n",
        "name=input(\"enter name\\n\")\n",
        "roll_no=input(\"enter roll number\\n\")\n",
        "print(\"total marks for 5 subjects is 500\")\n",
        "subject1_marks=int(input(\"enter the subject marks for 1 subject: \"))\n",
        "subject2_marks=int(input(\"enter the subject marks for 2 subject: \"))\n",
        "subject3_marks=int(input(\"enter the subject marks for 3 subject: \"))\n",
        "subject4_marks=int(input(\"enter the subject marks for 4 subject: \"))\n",
        "subject5_marks=int(input(\"enter the subject marks for 5 subject: \"))\n",
        "gained_marks=subject1_marks+subject2_marks+subject3_marks+subject4_marks+subject5_marks\n",
        "percentage=(gained_marks/500)*100\n",
        "print(\"percentage of student\",percentage)\n"
      ]
    },
    {
      "cell_type": "code",
      "source": [
        "p=input(\"enter any string: \")\n",
        "list(p)"
      ],
      "metadata": {
        "id": "hKTKz6C1_Lfx"
      },
      "execution_count": null,
      "outputs": []
    },
    {
      "cell_type": "code",
      "source": [
        "a = [1,2,3,4,5]\n",
        "print(a[0])\n",
        "print(a[-1])\n",
        "print(a[2])\n",
        "print(a[-2])\n",
        "print(a[1])"
      ],
      "metadata": {
        "id": "l3ge1REn_n9Z"
      },
      "execution_count": null,
      "outputs": []
    },
    {
      "cell_type": "code",
      "source": [
        "[1,2,3,4] == [4,3,2,1]\n"
      ],
      "metadata": {
        "id": "Ko8wWYHj_2tL"
      },
      "execution_count": null,
      "outputs": []
    },
    {
      "cell_type": "code",
      "source": [
        "[1,2,3,4] >  [4]\n"
      ],
      "metadata": {
        "id": "IDrJWZc7Ae6j"
      },
      "execution_count": null,
      "outputs": []
    },
    {
      "cell_type": "code",
      "source": [
        "[1,2,3,4] != [1,2,3,4]\n"
      ],
      "metadata": {
        "id": "zsuZOv3lAiTP"
      },
      "execution_count": null,
      "outputs": []
    },
    {
      "cell_type": "code",
      "source": [
        "[1,2,3,4] == [1,2,[3,4]]\n"
      ],
      "metadata": {
        "id": "I5SWZs76Anix"
      },
      "execution_count": null,
      "outputs": []
    },
    {
      "cell_type": "code",
      "source": [
        "[1,2,3] == [1.0,2.0,3.0]\n"
      ],
      "metadata": {
        "id": "NSihSnEbAsGk"
      },
      "execution_count": null,
      "outputs": []
    },
    {
      "cell_type": "code",
      "source": [
        "a = [1,2,3,4]\n",
        "b = [5,6,7,8,]\n",
        "a+b"
      ],
      "metadata": {
        "id": "JuPGhavjAv7m"
      },
      "execution_count": null,
      "outputs": []
    },
    {
      "cell_type": "code",
      "source": [
        "b = \"Practice Questions of List in Python\"\n",
        "a=list(b)\n",
        "print(a)\n",
        "print(len(a))\n",
        "print(a[1:4])\n",
        "print(a[1:7])\n",
        "print(a[3:])\n",
        "print(a[:5])\n",
        "print(a[4:17])\n",
        "print(a[-2:-5:-1])\n",
        "print(a[1:7:1])\n",
        "print(a[1:7:2])\n",
        "print(a[-5:])\n",
        "print(a[:4])\n",
        "print(a[-2:-5:-2])\n",
        "print(a[11:15])\n",
        "print(a[:])\n",
        "print(a[::2])\n",
        "print(a[-5:-1])\n",
        "print(a[7:1:-1])\n",
        "print(a[3:-3])\n",
        "print(a[30:40])\n",
        "print(a[17:-1])\n",
        "print(a[10::-1])"
      ],
      "metadata": {
        "id": "bD_jmbNmBDQM"
      },
      "execution_count": null,
      "outputs": []
    },
    {
      "cell_type": "code",
      "source": [
        "T1 = (1, 2, 3, 4, 5, 6, 7, 8)\n",
        "print(T1)\n",
        "print(T1 * 2)\n",
        "print(T1 + T1)\n",
        "print(len(T1) * 2)"
      ],
      "metadata": {
        "id": "YuwOohpXBDgG"
      },
      "execution_count": null,
      "outputs": []
    },
    {
      "cell_type": "code",
      "source": [
        "T1 = (1, 2, 3, 4, 5, 6, 7, 8)\n",
        "print(T1[0])\n",
        "print(T1[-1])\n",
        "print(T1[2 + 3])\n",
        "print(T1[4 - 1])\n",
        "print(T1[7%2])"
      ],
      "metadata": {
        "id": "e0DuXAGtCkjJ"
      },
      "execution_count": null,
      "outputs": []
    },
    {
      "cell_type": "code",
      "source": [
        "T1 = (23, 32, 4, 5, 2, 12, 23, 7, 9, 10, 23)\n",
        "print(len(T1) + T1[-1])\n",
        "print(T1[T1.count(23) + len(T1) -5])\n",
        "print(T1.count(T1[6]))\n",
        "print(T1.count(max(T1)))"
      ],
      "metadata": {
        "id": "4P91fCA9Cq5n"
      },
      "execution_count": null,
      "outputs": []
    },
    {
      "cell_type": "code",
      "source": [
        "T1 = ('Hockey', 'Cricket', 'Football')\n",
        "print(max(T1))\n",
        "print(min(T1))"
      ],
      "metadata": {
        "id": "BWWaUStGC4Q-"
      },
      "execution_count": null,
      "outputs": []
    },
    {
      "cell_type": "code",
      "source": [
        "T1 = ('Raman', 'Ram', 'Ramaiya')\n",
        "print(max(T1))\n",
        "print(min(T1))\n"
      ],
      "metadata": {
        "id": "1UX-S-DwDDVD"
      },
      "execution_count": null,
      "outputs": []
    },
    {
      "cell_type": "code",
      "source": [
        "T1 = (23, 32, 4, 5, 2, 12, 23, 7, 9, 10, 23)\n",
        "print(sorted(T1))\n",
        "print(sorted(T1[2 : 7]))\n",
        "\n",
        "\n",
        "print(T1.index(23))\n",
        "print(T1.index(23, 3, 9))"
      ],
      "metadata": {
        "id": "PHgQuKjbDFAR"
      },
      "execution_count": null,
      "outputs": []
    },
    {
      "cell_type": "code",
      "source": [
        "T1 = (23, 32, 4, 5, 2, 12, 23, 7, 9, 10, 23)\n",
        "print(sum(max(T1) + min(T1)))\n"
      ],
      "metadata": {
        "id": "XpRsFu7rDLKM"
      },
      "execution_count": null,
      "outputs": []
    },
    {
      "cell_type": "code",
      "source": [
        "a = (“Seventy”, [1, 2, 3], (20, 30, 40), “Eighty”)\n",
        "\n",
        "\n",
        "p=10\n",
        "q=20\n",
        "p=p*q//4\n",
        "q=p+q**3\n",
        "print(p,q)\n"
      ],
      "metadata": {
        "id": "fWoNQheiDWri"
      },
      "execution_count": null,
      "outputs": []
    },
    {
      "cell_type": "code",
      "source": [
        "x=2\n",
        "y=6\n",
        "x=x+y/2 + y//4\n",
        "print(x)"
      ],
      "metadata": {
        "id": "W2S5yHSpDbzK"
      },
      "execution_count": null,
      "outputs": []
    },
    {
      "cell_type": "code",
      "source": [
        "T = [1,2,3,4]\n",
        "T1 = [3,4,5,6]\n",
        "T2 = T.append(T1)\n",
        "print(T2)"
      ],
      "metadata": {
        "id": "DigCnbQpDh7F"
      },
      "execution_count": null,
      "outputs": []
    },
    {
      "cell_type": "code",
      "source": [
        "t1 = (1,2,4,3)\n",
        "t2 = (1,2,3,4)\n",
        "t1 < t2"
      ],
      "metadata": {
        "id": "Fmb7grGdDlnh"
      },
      "execution_count": null,
      "outputs": []
    },
    {
      "cell_type": "code",
      "source": [
        "L1 = [1,2,3,4]\n",
        "L2 = L1\n",
        "L3 = L1.copy()\n",
        "L4 = L3\n",
        "L1[0] = [5]\n",
        "print(L1, L2, L3, L4)"
      ],
      "metadata": {
        "id": "PLE7D_hfDpd1"
      },
      "execution_count": null,
      "outputs": []
    },
    {
      "cell_type": "code",
      "source": [
        "L1 = []\n",
        "L1.append([1, [2, 3], 4])\n",
        "L1.extend([7, 8, 9])\n",
        "print(L1) [\n",
        "print(L1[0][1][1] + L1[2])\n"
      ],
      "metadata": {
        "id": "AA0NaTSnD3qJ"
      },
      "execution_count": null,
      "outputs": []
    },
    {
      "cell_type": "code",
      "source": [
        "t1 = (1, 23, 4, 5, 'A', ['C', 'D'], (23, 45), 45)\n",
        "print(len(t1))\n",
        "print(t1.index(45))\n",
        "print(t1.count(45))\n",
        "print(t1[5][0]*2)\n",
        "print(t1[:5])\n",
        "print(t1[5:])\n",
        "print(t1.index('A'))\n",
        "print(t1[-1:-7:-2])\n",
        "print(t1[4] + t1[5])\n",
        "print(max(t1))"
      ],
      "metadata": {
        "id": "4dqILC2nEM2N"
      },
      "execution_count": null,
      "outputs": []
    },
    {
      "cell_type": "code",
      "source": [
        "t1 = (1,2,3,4,5,6,7,8)\n",
        "print(t1[0])\n",
        "print(t1[-1])\n",
        "print(t1[2+3])\n",
        "print(t1[4-1])\n",
        "print(t1[7%2])"
      ],
      "metadata": {
        "id": "F7JiLd8LD7oZ"
      },
      "execution_count": null,
      "outputs": []
    },
    {
      "cell_type": "code",
      "source": [
        "print(\"abc.DEF\".capitalize())\n"
      ],
      "metadata": {
        "id": "_hdyWMXbEaV3"
      },
      "execution_count": null,
      "outputs": []
    },
    {
      "cell_type": "code",
      "source": [
        "2**(3**2) >> (2**3)**2 >> 2**3**2\n"
      ],
      "metadata": {
        "id": "iISOUhdREd7g"
      },
      "execution_count": null,
      "outputs": []
    },
    {
      "cell_type": "code",
      "source": [
        "print(True**False/True)\n"
      ],
      "metadata": {
        "id": "V5kTy32KEkhx"
      },
      "execution_count": null,
      "outputs": []
    },
    {
      "cell_type": "code",
      "source": [
        "all([2,4,0,6])"
      ],
      "metadata": {
        "id": "zabymKndEm1d"
      },
      "execution_count": null,
      "outputs": []
    },
    {
      "cell_type": "code",
      "source": [
        "a=[4,5,67,7]\n",
        "print(a)\n",
        "i=1\n",
        "while(i<len(a)):\n",
        "  print(a[i])\n",
        "  i+=2"
      ],
      "metadata": {
        "id": "Gp2Fit7vvxBK"
      },
      "execution_count": null,
      "outputs": []
    },
    {
      "cell_type": "markdown",
      "source": [
        "brute force method"
      ],
      "metadata": {
        "id": "fMtneqhzVL6-"
      }
    },
    {
      "cell_type": "code",
      "source": [
        "min(2,3)"
      ],
      "metadata": {
        "id": "x10-lWOkvxXB"
      },
      "execution_count": null,
      "outputs": []
    },
    {
      "cell_type": "markdown",
      "source": [
        "pair method"
      ],
      "metadata": {
        "id": "81N3Db8mVUoh"
      }
    },
    {
      "cell_type": "code",
      "source": [
        "arr=[4,5,67,7]\n",
        "b=len(arr)\n",
        "index=0\n",
        "\n",
        "if b%2==0:\n",
        "  Mini=min(arr[0],arr[1])\n",
        "  Maxi=max(arr[0],arr[1])\n",
        "  index=2\n",
        "else:\n",
        "  Mini=arr[0]\n",
        "  Maxi=arr[0]\n",
        "  index=1\n",
        "\n",
        "while(index<b):\n",
        "  if arr[index] < arr[index+ 1]:\n",
        "    Maxi = max(Maxi, arr[index + 1])\n",
        "    Mini = min(Mini, arr[index])\n",
        "  else:\n",
        "    Maxi = max(Maxi, arr[index])\n",
        "    Mini = min(Mini, arr[index + 1])\n",
        "\n",
        "  index+=2\n",
        "\n",
        "print(Mini,Maxi)\n",
        "\n"
      ],
      "metadata": {
        "id": "85YOVPLrvxvx",
        "colab": {
          "base_uri": "https://localhost:8080/"
        },
        "outputId": "0685df08-dd2b-4cc2-9c4c-15a5553a5464"
      },
      "execution_count": null,
      "outputs": [
        {
          "output_type": "stream",
          "name": "stdout",
          "text": [
            "4 67\n"
          ]
        }
      ]
    },
    {
      "cell_type": "markdown",
      "source": [
        "tournament method"
      ],
      "metadata": {
        "id": "UD210-xdfTE1"
      }
    },
    {
      "cell_type": "code",
      "source": [],
      "metadata": {
        "id": "QSFDOTBGW9lc"
      },
      "execution_count": null,
      "outputs": []
    }
  ]
}